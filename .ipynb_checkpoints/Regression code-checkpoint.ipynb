{
 "cells": [
  {
   "cell_type": "markdown",
   "id": "6987be50",
   "metadata": {},
   "source": [
    "## Linear Regressions for SE Project\n",
    "\n",
    "Loading all packages"
   ]
  },
  {
   "cell_type": "code",
   "execution_count": 1,
   "id": "2641542c",
   "metadata": {},
   "outputs": [
    {
     "name": "stderr",
     "output_type": "stream",
     "text": [
      "also installing the dependency 'lme4'\n",
      "\n"
     ]
    },
    {
     "name": "stdout",
     "output_type": "stream",
     "text": [
      "\n",
      "  There are binary versions available but the source versions are later:\n",
      "     binary   source needs_compilation\n",
      "lme4 1.1-26 1.1-27.1              TRUE\n",
      "car  3.0-10   3.0-12             FALSE\n",
      "\n",
      "  Binaries will be installed\n",
      "package 'lme4' successfully unpacked and MD5 sums checked\n",
      "\n",
      "The downloaded binary packages are in\n",
      "\tC:\\Users\\Ashwitha Kassetty\\AppData\\Local\\Temp\\RtmpMljcfV\\downloaded_packages\n"
     ]
    },
    {
     "name": "stderr",
     "output_type": "stream",
     "text": [
      "installing the source package 'car'\n",
      "\n"
     ]
    }
   ],
   "source": [
    "install.packages(\"car\")"
   ]
  },
  {
   "cell_type": "code",
   "execution_count": 2,
   "id": "eaa28740",
   "metadata": {},
   "outputs": [
    {
     "name": "stdout",
     "output_type": "stream",
     "text": [
      "package 'statmod' successfully unpacked and MD5 sums checked\n",
      "\n",
      "The downloaded binary packages are in\n",
      "\tC:\\Users\\Ashwitha Kassetty\\AppData\\Local\\Temp\\RtmpMljcfV\\downloaded_packages\n"
     ]
    }
   ],
   "source": [
    "install.packages(\"statmod\")"
   ]
  },
  {
   "cell_type": "code",
   "execution_count": 3,
   "id": "296b1c96",
   "metadata": {},
   "outputs": [
    {
     "name": "stderr",
     "output_type": "stream",
     "text": [
      "Warning message:\n",
      "\"package 'lme4' was built under R version 3.6.3\"Loading required package: Matrix\n"
     ]
    }
   ],
   "source": [
    "library(lme4)"
   ]
  },
  {
   "cell_type": "code",
   "execution_count": 4,
   "id": "b28cd0f8",
   "metadata": {},
   "outputs": [],
   "source": [
    "#d = read.csv(\"Desktop/lucene.csv\",header=T,sep=\",\")"
   ]
  },
  {
   "cell_type": "code",
   "execution_count": 5,
   "id": "c0bbf8f3",
   "metadata": {},
   "outputs": [],
   "source": [
    "#m1 = lm(congruences ~ no_of_months, data=d)\n",
    "#summary(m1)\n",
    "#vif(m1)\n",
    "#plot(m1)\n",
    "#anova(m1)"
   ]
  },
  {
   "cell_type": "code",
   "execution_count": 6,
   "id": "485c8c6b",
   "metadata": {},
   "outputs": [],
   "source": [
    "library(plyr)\n",
    "library(readr)"
   ]
  },
  {
   "cell_type": "markdown",
   "id": "0f3b705c",
   "metadata": {},
   "source": [
    "### Current Directory"
   ]
  },
  {
   "cell_type": "code",
   "execution_count": 7,
   "id": "ed93511c",
   "metadata": {},
   "outputs": [],
   "source": [
    "currdir = \"C:/Users/Ashwitha Kassetty/Documents/GitHub/MS_SEProject/csv files/Current\"\n",
    "currfiles = list.files(path=currdir, pattern=\"*.csv\", full.names=TRUE)\n",
    "#myfiles"
   ]
  },
  {
   "cell_type": "code",
   "execution_count": 8,
   "id": "956d8602",
   "metadata": {},
   "outputs": [
    {
     "name": "stderr",
     "output_type": "stream",
     "text": [
      "Warning message:\n",
      "\"Missing column names filled in: 'X1' [1]\"Parsed with column specification:\n",
      "cols(\n",
      "  X1 = col_character(),\n",
      "  no_of_months = col_double(),\n",
      "  no_of_commits = col_double(),\n",
      "  congruences = col_double()\n",
      ")\n",
      "Warning message:\n",
      "\"3 parsing failures.\n",
      "row col  expected    actual                                                                                         file\n",
      "  1  -- 4 columns 1 columns 'C:/Users/Ashwitha Kassetty/Documents/GitHub/MS_SEProject/csv files/Current/bahir-flink.csv'\n",
      " 28  -- 4 columns 1 columns 'C:/Users/Ashwitha Kassetty/Documents/GitHub/MS_SEProject/csv files/Current/bahir-flink.csv'\n",
      " 54  -- 4 columns 1 columns 'C:/Users/Ashwitha Kassetty/Documents/GitHub/MS_SEProject/csv files/Current/bahir-flink.csv'\n",
      "\"Warning message:\n",
      "\"Missing column names filled in: 'X1' [1]\"Parsed with column specification:\n",
      "cols(\n",
      "  X1 = col_double(),\n",
      "  no_of_months = col_double(),\n",
      "  no_of_commits = col_double(),\n",
      "  congruences = col_double()\n",
      ")\n",
      "Warning message:\n",
      "\"Missing column names filled in: 'X1' [1]\"Parsed with column specification:\n",
      "cols(\n",
      "  X1 = col_double(),\n",
      "  no_of_months = col_double(),\n",
      "  no_of_commits = col_double(),\n",
      "  congruences = col_double()\n",
      ")\n",
      "Warning message:\n",
      "\"Missing column names filled in: 'X1' [1]\"Parsed with column specification:\n",
      "cols(\n",
      "  X1 = col_double(),\n",
      "  no_of_months = col_double(),\n",
      "  no_of_commits = col_double(),\n",
      "  congruences = col_double()\n",
      ")\n",
      "Warning message:\n",
      "\"Missing column names filled in: 'X1' [1]\"Parsed with column specification:\n",
      "cols(\n",
      "  X1 = col_double(),\n",
      "  no_of_months = col_double(),\n",
      "  no_of_commits = col_double(),\n",
      "  congruences = col_double()\n",
      ")\n",
      "Warning message:\n",
      "\"Missing column names filled in: 'X1' [1]\"Parsed with column specification:\n",
      "cols(\n",
      "  X1 = col_double(),\n",
      "  no_of_months = col_double(),\n",
      "  no_of_commits = col_double(),\n",
      "  congruences = col_double()\n",
      ")\n",
      "Warning message:\n",
      "\"Missing column names filled in: 'X1' [1]\"Parsed with column specification:\n",
      "cols(\n",
      "  X1 = col_double(),\n",
      "  no_of_months = col_double(),\n",
      "  no_of_commits = col_double(),\n",
      "  congruences = col_double()\n",
      ")\n",
      "Warning message:\n",
      "\"Missing column names filled in: 'X1' [1]\"Parsed with column specification:\n",
      "cols(\n",
      "  X1 = col_character(),\n",
      "  no_of_months = col_double(),\n",
      "  no_of_commits = col_double(),\n",
      "  congruences = col_double()\n",
      ")\n",
      "Warning message:\n",
      "\"3 parsing failures.\n",
      "row col  expected    actual                                                                                             file\n",
      "  1  -- 4 columns 1 columns 'C:/Users/Ashwitha Kassetty/Documents/GitHub/MS_SEProject/csv files/Current/incubator-doris.csv'\n",
      " 54  -- 4 columns 1 columns 'C:/Users/Ashwitha Kassetty/Documents/GitHub/MS_SEProject/csv files/Current/incubator-doris.csv'\n",
      "105  -- 4 columns 1 columns 'C:/Users/Ashwitha Kassetty/Documents/GitHub/MS_SEProject/csv files/Current/incubator-doris.csv'\n",
      "\"Warning message:\n",
      "\"Missing column names filled in: 'X1' [1]\"Parsed with column specification:\n",
      "cols(\n",
      "  X1 = col_double(),\n",
      "  no_of_months = col_double(),\n",
      "  no_of_commits = col_double(),\n",
      "  congruences = col_double()\n",
      ")\n",
      "Warning message:\n",
      "\"Missing column names filled in: 'X1' [1]\"Parsed with column specification:\n",
      "cols(\n",
      "  X1 = col_character(),\n",
      "  no_of_months = col_double(),\n",
      "  no_of_commits = col_double(),\n",
      "  congruences = col_double()\n",
      ")\n",
      "Warning message:\n",
      "\"3 parsing failures.\n",
      "row col  expected    actual                                                                                             file\n",
      "  1  -- 4 columns 1 columns 'C:/Users/Ashwitha Kassetty/Documents/GitHub/MS_SEProject/csv files/Current/incubator-heron.csv'\n",
      " 71  -- 4 columns 1 columns 'C:/Users/Ashwitha Kassetty/Documents/GitHub/MS_SEProject/csv files/Current/incubator-heron.csv'\n",
      "140  -- 4 columns 1 columns 'C:/Users/Ashwitha Kassetty/Documents/GitHub/MS_SEProject/csv files/Current/incubator-heron.csv'\n",
      "\"Warning message:\n",
      "\"Missing column names filled in: 'X1' [1]\"Parsed with column specification:\n",
      "cols(\n",
      "  X1 = col_double(),\n",
      "  no_of_months = col_double(),\n",
      "  no_of_commits = col_double(),\n",
      "  congruences = col_double()\n",
      ")\n",
      "Warning message:\n",
      "\"Missing column names filled in: 'X1' [1]\"Parsed with column specification:\n",
      "cols(\n",
      "  X1 = col_character(),\n",
      "  no_of_months = col_double(),\n",
      "  no_of_commits = col_double(),\n",
      "  congruences = col_double()\n",
      ")\n",
      "Warning message:\n",
      "\"3 parsing failures.\n",
      "row col  expected    actual                                                                                              file\n",
      "  1  -- 4 columns 1 columns 'C:/Users/Ashwitha Kassetty/Documents/GitHub/MS_SEProject/csv files/Current/incubator-inlong.csv'\n",
      " 27  -- 4 columns 1 columns 'C:/Users/Ashwitha Kassetty/Documents/GitHub/MS_SEProject/csv files/Current/incubator-inlong.csv'\n",
      " 52  -- 4 columns 1 columns 'C:/Users/Ashwitha Kassetty/Documents/GitHub/MS_SEProject/csv files/Current/incubator-inlong.csv'\n",
      "\"Warning message:\n",
      "\"Missing column names filled in: 'X1' [1]\"Parsed with column specification:\n",
      "cols(\n",
      "  X1 = col_character(),\n",
      "  no_of_months = col_double(),\n",
      "  no_of_commits = col_double(),\n",
      "  congruences = col_double()\n",
      ")\n",
      "Warning message:\n",
      "\"3 parsing failures.\n",
      "row col  expected    actual                                                                                              file\n",
      "  1  -- 4 columns 1 columns 'C:/Users/Ashwitha Kassetty/Documents/GitHub/MS_SEProject/csv files/Current/incubator-kyuubi.csv'\n",
      " 39  -- 4 columns 1 columns 'C:/Users/Ashwitha Kassetty/Documents/GitHub/MS_SEProject/csv files/Current/incubator-kyuubi.csv'\n",
      " 76  -- 4 columns 1 columns 'C:/Users/Ashwitha Kassetty/Documents/GitHub/MS_SEProject/csv files/Current/incubator-kyuubi.csv'\n",
      "\"Warning message:\n",
      "\"Missing column names filled in: 'X1' [1]\"Parsed with column specification:\n",
      "cols(\n",
      "  X1 = col_double(),\n",
      "  no_of_months = col_double(),\n",
      "  no_of_commits = col_double(),\n",
      "  congruences = col_double()\n",
      ")\n",
      "Warning message:\n",
      "\"Missing column names filled in: 'X1' [1]\"Parsed with column specification:\n",
      "cols(\n",
      "  X1 = col_double(),\n",
      "  no_of_months = col_double(),\n",
      "  no_of_commits = col_double(),\n",
      "  congruences = col_double()\n",
      ")\n",
      "Warning message:\n",
      "\"Missing column names filled in: 'X1' [1]\"Parsed with column specification:\n",
      "cols(\n",
      "  X1 = col_double(),\n",
      "  no_of_months = col_double(),\n",
      "  no_of_commits = col_double(),\n",
      "  congruences = col_double()\n",
      ")\n",
      "Warning message:\n",
      "\"Missing column names filled in: 'X1' [1]\"Parsed with column specification:\n",
      "cols(\n",
      "  X1 = col_double(),\n",
      "  no_of_months = col_double(),\n",
      "  no_of_commits = col_double(),\n",
      "  congruences = col_double()\n",
      ")\n",
      "Warning message:\n",
      "\"Missing column names filled in: 'X1' [1]\"Parsed with column specification:\n",
      "cols(\n",
      "  X1 = col_character(),\n",
      "  no_of_months = col_double(),\n",
      "  no_of_commits = col_double(),\n",
      "  congruences = col_double()\n",
      ")\n",
      "Warning message:\n",
      "\"3 parsing failures.\n",
      "row col  expected    actual                                                                                             file\n",
      "  1  -- 4 columns 1 columns 'C:/Users/Ashwitha Kassetty/Documents/GitHub/MS_SEProject/csv files/Current/incubator-mxnet.csv'\n",
      " 86  -- 4 columns 1 columns 'C:/Users/Ashwitha Kassetty/Documents/GitHub/MS_SEProject/csv files/Current/incubator-mxnet.csv'\n",
      "170  -- 4 columns 1 columns 'C:/Users/Ashwitha Kassetty/Documents/GitHub/MS_SEProject/csv files/Current/incubator-mxnet.csv'\n",
      "\"Warning message:\n",
      "\"Missing column names filled in: 'X1' [1]\"Parsed with column specification:\n",
      "cols(\n",
      "  X1 = col_double(),\n",
      "  no_of_months = col_double(),\n",
      "  no_of_commits = col_double(),\n",
      "  congruences = col_double()\n",
      ")\n",
      "Warning message:\n",
      "\"Missing column names filled in: 'X1' [1]\"Parsed with column specification:\n",
      "cols(\n",
      "  X1 = col_character(),\n",
      "  no_of_months = col_double(),\n",
      "  no_of_commits = col_double(),\n",
      "  congruences = col_double()\n",
      ")\n",
      "Warning message:\n",
      "\"3 parsing failures.\n",
      "row col  expected    actual                                                                                                file\n",
      "  1  -- 4 columns 1 columns 'C:/Users/Ashwitha Kassetty/Documents/GitHub/MS_SEProject/csv files/Current/incubator-nlpcraft.csv'\n",
      " 23  -- 4 columns 1 columns 'C:/Users/Ashwitha Kassetty/Documents/GitHub/MS_SEProject/csv files/Current/incubator-nlpcraft.csv'\n",
      " 44  -- 4 columns 1 columns 'C:/Users/Ashwitha Kassetty/Documents/GitHub/MS_SEProject/csv files/Current/incubator-nlpcraft.csv'\n",
      "\"Warning message:\n",
      "\"Missing column names filled in: 'X1' [1]\"Parsed with column specification:\n",
      "cols(\n",
      "  X1 = col_double(),\n",
      "  no_of_months = col_double(),\n",
      "  no_of_commits = col_double(),\n",
      "  congruences = col_double()\n",
      ")\n"
     ]
    },
    {
     "name": "stderr",
     "output_type": "stream",
     "text": [
      "Warning message:\n",
      "\"Missing column names filled in: 'X1' [1]\"Parsed with column specification:\n",
      "cols(\n",
      "  X1 = col_double(),\n",
      "  no_of_months = col_double(),\n",
      "  no_of_commits = col_double(),\n",
      "  congruences = col_double()\n",
      ")\n",
      "Warning message:\n",
      "\"Missing column names filled in: 'X1' [1]\"Parsed with column specification:\n",
      "cols(\n",
      "  X1 = col_double(),\n",
      "  no_of_months = col_double(),\n",
      "  no_of_commits = col_double(),\n",
      "  congruences = col_double()\n",
      ")\n",
      "Warning message:\n",
      "\"Missing column names filled in: 'X1' [1]\"Parsed with column specification:\n",
      "cols(\n",
      "  X1 = col_double(),\n",
      "  no_of_months = col_double(),\n",
      "  no_of_commits = col_double(),\n",
      "  congruences = col_double()\n",
      ")\n",
      "Warning message:\n",
      "\"Missing column names filled in: 'X1' [1]\"Parsed with column specification:\n",
      "cols(\n",
      "  X1 = col_double(),\n",
      "  no_of_months = col_double(),\n",
      "  no_of_commits = col_double(),\n",
      "  congruences = col_double()\n",
      ")\n",
      "Warning message:\n",
      "\"Missing column names filled in: 'X1' [1]\"Parsed with column specification:\n",
      "cols(\n",
      "  X1 = col_double(),\n",
      "  no_of_months = col_double(),\n",
      "  no_of_commits = col_double(),\n",
      "  congruences = col_double()\n",
      ")\n",
      "Warning message:\n",
      "\"Missing column names filled in: 'X1' [1]\"Parsed with column specification:\n",
      "cols(\n",
      "  X1 = col_character(),\n",
      "  no_of_months = col_double(),\n",
      "  no_of_commits = col_double(),\n",
      "  congruences = col_double()\n",
      ")\n",
      "Warning message:\n",
      "\"3 parsing failures.\n",
      "row col  expected    actual                                                                                                file\n",
      "  1  -- 4 columns 1 columns 'C:/Users/Ashwitha Kassetty/Documents/GitHub/MS_SEProject/csv files/Current/incubator-teaclave.csv'\n",
      " 29  -- 4 columns 1 columns 'C:/Users/Ashwitha Kassetty/Documents/GitHub/MS_SEProject/csv files/Current/incubator-teaclave.csv'\n",
      " 56  -- 4 columns 1 columns 'C:/Users/Ashwitha Kassetty/Documents/GitHub/MS_SEProject/csv files/Current/incubator-teaclave.csv'\n",
      "\"Warning message:\n",
      "\"Missing column names filled in: 'X1' [1]\"Parsed with column specification:\n",
      "cols(\n",
      "  X1 = col_character(),\n",
      "  no_of_months = col_double(),\n",
      "  no_of_commits = col_double(),\n",
      "  congruences = col_double()\n",
      ")\n",
      "Warning message:\n",
      "\"3 parsing failures.\n",
      "row col  expected    actual                                                                                             file\n",
      "  1  -- 4 columns 1 columns 'C:/Users/Ashwitha Kassetty/Documents/GitHub/MS_SEProject/csv files/Current/incubator-toree.csv'\n",
      " 53  -- 4 columns 1 columns 'C:/Users/Ashwitha Kassetty/Documents/GitHub/MS_SEProject/csv files/Current/incubator-toree.csv'\n",
      "104  -- 4 columns 1 columns 'C:/Users/Ashwitha Kassetty/Documents/GitHub/MS_SEProject/csv files/Current/incubator-toree.csv'\n",
      "\"Warning message:\n",
      "\"Missing column names filled in: 'X1' [1]\"Parsed with column specification:\n",
      "cols(\n",
      "  X1 = col_double(),\n",
      "  no_of_months = col_double(),\n",
      "  no_of_commits = col_double(),\n",
      "  congruences = col_double()\n",
      ")\n",
      "Warning message:\n",
      "\"Missing column names filled in: 'X1' [1]\"Parsed with column specification:\n",
      "cols(\n",
      "  X1 = col_double(),\n",
      "  no_of_months = col_double(),\n",
      "  no_of_commits = col_double(),\n",
      "  congruences = col_double()\n",
      ")\n",
      "Warning message:\n",
      "\"Missing column names filled in: 'X1' [1]\"Parsed with column specification:\n",
      "cols(\n",
      "  X1 = col_double(),\n",
      "  no_of_months = col_double(),\n",
      "  no_of_commits = col_double(),\n",
      "  congruences = col_double()\n",
      ")\n",
      "Warning message:\n",
      "\"Missing column names filled in: 'X1' [1]\"Parsed with column specification:\n",
      "cols(\n",
      "  X1 = col_double(),\n",
      "  no_of_months = col_double(),\n",
      "  no_of_commits = col_double(),\n",
      "  congruences = col_double()\n",
      ")\n",
      "Warning message:\n",
      "\"Missing column names filled in: 'X1' [1]\"Parsed with column specification:\n",
      "cols(\n",
      "  X1 = col_double(),\n",
      "  no_of_months = col_double(),\n",
      "  no_of_commits = col_double(),\n",
      "  congruences = col_double()\n",
      ")\n",
      "Warning message:\n",
      "\"Missing column names filled in: 'X1' [1]\"Parsed with column specification:\n",
      "cols(\n",
      "  X1 = col_character(),\n",
      "  no_of_months = col_double(),\n",
      "  no_of_commits = col_double(),\n",
      "  congruences = col_double()\n",
      ")\n",
      "Warning message:\n",
      "\"3 parsing failures.\n",
      "row col  expected    actual                                                                                        file\n",
      "  1  -- 4 columns 1 columns 'C:/Users/Ashwitha Kassetty/Documents/GitHub/MS_SEProject/csv files/Current/skywalking.csv'\n",
      " 78  -- 4 columns 1 columns 'C:/Users/Ashwitha Kassetty/Documents/GitHub/MS_SEProject/csv files/Current/skywalking.csv'\n",
      "154  -- 4 columns 1 columns 'C:/Users/Ashwitha Kassetty/Documents/GitHub/MS_SEProject/csv files/Current/skywalking.csv'\n",
      "\"Warning message:\n",
      "\"Missing column names filled in: 'X1' [1]\"Parsed with column specification:\n",
      "cols(\n",
      "  X1 = col_double(),\n",
      "  no_of_months = col_double(),\n",
      "  no_of_commits = col_double(),\n",
      "  congruences = col_double()\n",
      ")\n"
     ]
    }
   ],
   "source": [
    "curr_csv = ldply(currfiles, read_csv)\n",
    "#dat_csv"
   ]
  },
  {
   "cell_type": "markdown",
   "id": "37b00612",
   "metadata": {},
   "source": [
    "Model 1: Congruences ~ No. of Months (Current)"
   ]
  },
  {
   "cell_type": "code",
   "execution_count": 9,
   "id": "b6ca8753",
   "metadata": {},
   "outputs": [
    {
     "data": {
      "text/plain": [
       "\n",
       "Call:\n",
       "lm(formula = congruences ~ no_of_months, data = curr_csv)\n",
       "\n",
       "Residuals:\n",
       "     Min       1Q   Median       3Q      Max \n",
       "-0.58943 -0.17838 -0.05009  0.12570  0.44657 \n",
       "\n",
       "Coefficients:\n",
       "               Estimate Std. Error t value Pr(>|t|)    \n",
       "(Intercept)   0.5925062  0.0083528  70.935   <2e-16 ***\n",
       "no_of_months -0.0002368  0.0001878  -1.261    0.207    \n",
       "---\n",
       "Signif. codes:  0 '***' 0.001 '**' 0.01 '*' 0.05 '.' 0.1 ' ' 1\n",
       "\n",
       "Residual standard error: 0.2553 on 2144 degrees of freedom\n",
       "  (30 observations deleted due to missingness)\n",
       "Multiple R-squared:  0.000741,\tAdjusted R-squared:  0.0002749 \n",
       "F-statistic:  1.59 on 1 and 2144 DF,  p-value: 0.2075\n"
      ]
     },
     "metadata": {},
     "output_type": "display_data"
    },
    {
     "data": {
      "text/html": [
       "<strong>png:</strong> 2"
      ],
      "text/latex": [
       "\\textbf{png:} 2"
      ],
      "text/markdown": [
       "**png:** 2"
      ],
      "text/plain": [
       "png \n",
       "  2 "
      ]
     },
     "metadata": {},
     "output_type": "display_data"
    },
    {
     "data": {
      "text/html": [
       "<table>\n",
       "<thead><tr><th></th><th scope=col>Df</th><th scope=col>Sum Sq</th><th scope=col>Mean Sq</th><th scope=col>F value</th><th scope=col>Pr(&gt;F)</th></tr></thead>\n",
       "<tbody>\n",
       "\t<tr><th scope=row>no_of_months</th><td>   1       </td><td>  0.1036255</td><td>0.10362548 </td><td>1.589789   </td><td>0.2074934  </td></tr>\n",
       "\t<tr><th scope=row>Residuals</th><td>2144       </td><td>139.7499750</td><td>0.06518189 </td><td>      NA   </td><td>       NA  </td></tr>\n",
       "</tbody>\n",
       "</table>\n"
      ],
      "text/latex": [
       "\\begin{tabular}{r|lllll}\n",
       "  & Df & Sum Sq & Mean Sq & F value & Pr(>F)\\\\\n",
       "\\hline\n",
       "\tno\\_of\\_months &    1        &   0.1036255 & 0.10362548  & 1.589789    & 0.2074934  \\\\\n",
       "\tResiduals & 2144        & 139.7499750 & 0.06518189  &       NA    &        NA  \\\\\n",
       "\\end{tabular}\n"
      ],
      "text/markdown": [
       "\n",
       "| <!--/--> | Df | Sum Sq | Mean Sq | F value | Pr(>F) |\n",
       "|---|---|---|---|---|---|\n",
       "| no_of_months |    1        |   0.1036255 | 0.10362548  | 1.589789    | 0.2074934   |\n",
       "| Residuals | 2144        | 139.7499750 | 0.06518189  |       NA    |        NA   |\n",
       "\n"
      ],
      "text/plain": [
       "             Df   Sum Sq      Mean Sq    F value  Pr(>F)   \n",
       "no_of_months    1   0.1036255 0.10362548 1.589789 0.2074934\n",
       "Residuals    2144 139.7499750 0.06518189       NA        NA"
      ]
     },
     "metadata": {},
     "output_type": "display_data"
    }
   ],
   "source": [
    "model1 = lm(congruences ~ no_of_months, data=curr_csv)\n",
    "summary(model1)\n",
    "#cat(\"Model 1: Congruences ~ No. of Months (Current)\", out1, \"Current_Model1.txt\")\n",
    "#vif(m1)\n",
    "png(\"C:/Users/Ashwitha Kassetty/Documents/GitHub/MS_SEProject/results/Current_Model1.png\", width = 800, height = 500)\n",
    "par(mfrow=c(1,2))\n",
    "plot(model1)\n",
    "dev.off()\n",
    "anova(model1)"
   ]
  },
  {
   "cell_type": "code",
   "execution_count": 10,
   "id": "39a8bc6d",
   "metadata": {},
   "outputs": [
    {
     "data": {
      "image/png": "[encoded data removed]",
      "text/plain": [
       "Plot with title \"\""
      ]
     },
     "metadata": {},
     "output_type": "display_data"
    },
    {
     "data": {
      "image/png": "[encoded data removed]",
      "text/plain": [
       "Plot with title \"\""
      ]
     },
     "metadata": {},
     "output_type": "display_data"
    },
    {
     "data": {
      "image/png": "[encoded data removed]",
      "text/plain": [
       "Plot with title \"\""
      ]
     },
     "metadata": {},
     "output_type": "display_data"
    },
    {
     "data": {
      "text/html": [
       "<table>\n",
       "<thead><tr><th></th><th scope=col>Df</th><th scope=col>Sum Sq</th><th scope=col>Mean Sq</th><th scope=col>F value</th><th scope=col>Pr(&gt;F)</th></tr></thead>\n",
       "<tbody>\n",
       "\t<tr><th scope=row>no_of_months</th><td>   1       </td><td>  0.1036255</td><td>0.10362548 </td><td>1.589789   </td><td>0.2074934  </td></tr>\n",
       "\t<tr><th scope=row>Residuals</th><td>2144       </td><td>139.7499750</td><td>0.06518189 </td><td>      NA   </td><td>       NA  </td></tr>\n",
       "</tbody>\n",
       "</table>\n"
      ],
      "text/latex": [
       "\\begin{tabular}{r|lllll}\n",
       "  & Df & Sum Sq & Mean Sq & F value & Pr(>F)\\\\\n",
       "\\hline\n",
       "\tno\\_of\\_months &    1        &   0.1036255 & 0.10362548  & 1.589789    & 0.2074934  \\\\\n",
       "\tResiduals & 2144        & 139.7499750 & 0.06518189  &       NA    &        NA  \\\\\n",
       "\\end{tabular}\n"
      ],
      "text/markdown": [
       "\n",
       "| <!--/--> | Df | Sum Sq | Mean Sq | F value | Pr(>F) |\n",
       "|---|---|---|---|---|---|\n",
       "| no_of_months |    1        |   0.1036255 | 0.10362548  | 1.589789    | 0.2074934   |\n",
       "| Residuals | 2144        | 139.7499750 | 0.06518189  |       NA    |        NA   |\n",
       "\n"
      ],
      "text/plain": [
       "             Df   Sum Sq      Mean Sq    F value  Pr(>F)   \n",
       "no_of_months    1   0.1036255 0.10362548 1.589789 0.2074934\n",
       "Residuals    2144 139.7499750 0.06518189       NA        NA"
      ]
     },
     "metadata": {},
     "output_type": "display_data"
    },
    {
     "data": {
      "image/png": "[encoded data removed]",
      "text/plain": [
       "Plot with title \"\""
      ]
     },
     "metadata": {},
     "output_type": "display_data"
    }
   ],
   "source": [
    "plot(model1)\n",
    "anova(model1)"
   ]
  },
  {
   "cell_type": "markdown",
   "id": "f7892249",
   "metadata": {},
   "source": [
    "Model 2: Congruences ~ No. of Commits (Current)"
   ]
  },
  {
   "cell_type": "code",
   "execution_count": 11,
   "id": "0ed97d49",
   "metadata": {},
   "outputs": [
    {
     "data": {
      "text/plain": [
       "\n",
       "Call:\n",
       "lm(formula = congruences ~ no_of_commits, data = curr_csv)\n",
       "\n",
       "Residuals:\n",
       "     Min       1Q   Median       3Q      Max \n",
       "-0.61886 -0.16379 -0.04572  0.14023  0.55901 \n",
       "\n",
       "Coefficients:\n",
       "                Estimate Std. Error t value Pr(>|t|)    \n",
       "(Intercept)    6.189e-01  6.545e-03  94.557   <2e-16 ***\n",
       "no_of_commits -5.171e-04  5.568e-05  -9.286   <2e-16 ***\n",
       "---\n",
       "Signif. codes:  0 '***' 0.001 '**' 0.01 '*' 0.05 '.' 0.1 ' ' 1\n",
       "\n",
       "Residual standard error: 0.2504 on 2144 degrees of freedom\n",
       "  (30 observations deleted due to missingness)\n",
       "Multiple R-squared:  0.03867,\tAdjusted R-squared:  0.03822 \n",
       "F-statistic: 86.23 on 1 and 2144 DF,  p-value: < 2.2e-16\n"
      ]
     },
     "metadata": {},
     "output_type": "display_data"
    },
    {
     "data": {
      "text/html": [
       "<strong>png:</strong> 2"
      ],
      "text/latex": [
       "\\textbf{png:} 2"
      ],
      "text/markdown": [
       "**png:** 2"
      ],
      "text/plain": [
       "png \n",
       "  2 "
      ]
     },
     "metadata": {},
     "output_type": "display_data"
    },
    {
     "data": {
      "text/html": [
       "<table>\n",
       "<thead><tr><th></th><th scope=col>Df</th><th scope=col>Sum Sq</th><th scope=col>Mean Sq</th><th scope=col>F value</th><th scope=col>Pr(&gt;F)</th></tr></thead>\n",
       "<tbody>\n",
       "\t<tr><th scope=row>no_of_commits</th><td>   1       </td><td>  5.407614 </td><td>5.40761356 </td><td>86.23481   </td><td>3.79185e-20</td></tr>\n",
       "\t<tr><th scope=row>Residuals</th><td>2144       </td><td>134.445987 </td><td>0.06270802 </td><td>      NA   </td><td>         NA</td></tr>\n",
       "</tbody>\n",
       "</table>\n"
      ],
      "text/latex": [
       "\\begin{tabular}{r|lllll}\n",
       "  & Df & Sum Sq & Mean Sq & F value & Pr(>F)\\\\\n",
       "\\hline\n",
       "\tno\\_of\\_commits &    1        &   5.407614  & 5.40761356  & 86.23481    & 3.79185e-20\\\\\n",
       "\tResiduals & 2144        & 134.445987  & 0.06270802  &       NA    &          NA\\\\\n",
       "\\end{tabular}\n"
      ],
      "text/markdown": [
       "\n",
       "| <!--/--> | Df | Sum Sq | Mean Sq | F value | Pr(>F) |\n",
       "|---|---|---|---|---|---|\n",
       "| no_of_commits |    1        |   5.407614  | 5.40761356  | 86.23481    | 3.79185e-20 |\n",
       "| Residuals | 2144        | 134.445987  | 0.06270802  |       NA    |          NA |\n",
       "\n"
      ],
      "text/plain": [
       "              Df   Sum Sq     Mean Sq    F value  Pr(>F)     \n",
       "no_of_commits    1   5.407614 5.40761356 86.23481 3.79185e-20\n",
       "Residuals     2144 134.445987 0.06270802       NA          NA"
      ]
     },
     "metadata": {},
     "output_type": "display_data"
    }
   ],
   "source": [
    "model2 = lm(congruences ~ no_of_commits, data=curr_csv)\n",
    "summary(model2)\n",
    "#vif(m1)\n",
    "png(\"C:/Users/Ashwitha Kassetty/Documents/GitHub/MS_SEProject/results/Current_Model2.png\", width = 800, height = 500)\n",
    "par(mfrow=c(1,2))\n",
    "plot(model2)\n",
    "dev.off()\n",
    "anova(model2)"
   ]
  },
  {
   "cell_type": "markdown",
   "id": "f44df491",
   "metadata": {},
   "source": [
    "### Graduated Directory"
   ]
  },
  {
   "cell_type": "code",
   "execution_count": 12,
   "id": "78558259",
   "metadata": {},
   "outputs": [],
   "source": [
    "graddir = \"C:/Users/Ashwitha Kassetty/Documents/GitHub/MS_SEProject/csv files/Graduated\"\n",
    "gradfiles = list.files(path=graddir, pattern=\"*.csv\", full.names=TRUE)\n",
    "#myfiles"
   ]
  },
  {
   "cell_type": "code",
   "execution_count": 13,
   "id": "20bf2ad5",
   "metadata": {},
   "outputs": [
    {
     "name": "stderr",
     "output_type": "stream",
     "text": [
      "Warning message:\n",
      "\"Missing column names filled in: 'X1' [1]\"Parsed with column specification:\n",
      "cols(\n",
      "  X1 = col_double(),\n",
      "  no_of_months = col_double(),\n",
      "  no_of_commits = col_double(),\n",
      "  congruences = col_double()\n",
      ")\n",
      "Warning message:\n",
      "\"Missing column names filled in: 'X1' [1]\"Parsed with column specification:\n",
      "cols(\n",
      "  X1 = col_double(),\n",
      "  no_of_months = col_double(),\n",
      "  no_of_commits = col_double(),\n",
      "  congruences = col_double()\n",
      ")\n",
      "Warning message:\n",
      "\"Missing column names filled in: 'X1' [1]\"Parsed with column specification:\n",
      "cols(\n",
      "  X1 = col_double(),\n",
      "  no_of_months = col_double(),\n",
      "  no_of_commits = col_double(),\n",
      "  congruences = col_double()\n",
      ")\n",
      "Warning message:\n",
      "\"Missing column names filled in: 'X1' [1]\"Parsed with column specification:\n",
      "cols(\n",
      "  X1 = col_double(),\n",
      "  no_of_months = col_double(),\n",
      "  no_of_commits = col_double(),\n",
      "  congruences = col_double()\n",
      ")\n",
      "Warning message:\n",
      "\"Missing column names filled in: 'X1' [1]\"Parsed with column specification:\n",
      "cols(\n",
      "  X1 = col_double(),\n",
      "  no_of_months = col_double(),\n",
      "  no_of_commits = col_double(),\n",
      "  congruences = col_double()\n",
      ")\n",
      "Warning message:\n",
      "\"Missing column names filled in: 'X1' [1]\"Parsed with column specification:\n",
      "cols(\n",
      "  X1 = col_double(),\n",
      "  no_of_months = col_double(),\n",
      "  no_of_commits = col_double(),\n",
      "  congruences = col_double()\n",
      ")\n",
      "Warning message:\n",
      "\"Missing column names filled in: 'X1' [1]\"Parsed with column specification:\n",
      "cols(\n",
      "  X1 = col_double(),\n",
      "  no_of_months = col_double(),\n",
      "  no_of_commits = col_double(),\n",
      "  congruences = col_double()\n",
      ")\n",
      "Warning message:\n",
      "\"Missing column names filled in: 'X1' [1]\"Parsed with column specification:\n",
      "cols(\n",
      "  X1 = col_double(),\n",
      "  no_of_months = col_double(),\n",
      "  no_of_commits = col_double(),\n",
      "  congruences = col_double()\n",
      ")\n",
      "Warning message:\n",
      "\"Missing column names filled in: 'X1' [1]\"Parsed with column specification:\n",
      "cols(\n",
      "  X1 = col_double(),\n",
      "  no_of_months = col_double(),\n",
      "  no_of_commits = col_double(),\n",
      "  congruences = col_double()\n",
      ")\n",
      "Warning message:\n",
      "\"Missing column names filled in: 'X1' [1]\"Parsed with column specification:\n",
      "cols(\n",
      "  X1 = col_double(),\n",
      "  no_of_months = col_double(),\n",
      "  no_of_commits = col_double(),\n",
      "  congruences = col_double()\n",
      ")\n",
      "Warning message:\n",
      "\"Missing column names filled in: 'X1' [1]\"Parsed with column specification:\n",
      "cols(\n",
      "  X1 = col_double(),\n",
      "  no_of_months = col_double(),\n",
      "  no_of_commits = col_double(),\n",
      "  congruences = col_double()\n",
      ")\n",
      "Warning message:\n",
      "\"Missing column names filled in: 'X1' [1]\"Parsed with column specification:\n",
      "cols(\n",
      "  X1 = col_double(),\n",
      "  no_of_months = col_double(),\n",
      "  no_of_commits = col_double(),\n",
      "  congruences = col_double()\n",
      ")\n",
      "Warning message:\n",
      "\"Missing column names filled in: 'X1' [1]\"Parsed with column specification:\n",
      "cols(\n",
      "  X1 = col_double(),\n",
      "  no_of_months = col_double(),\n",
      "  no_of_commits = col_double(),\n",
      "  congruences = col_double()\n",
      ")\n",
      "Warning message:\n",
      "\"Missing column names filled in: 'X1' [1]\"Parsed with column specification:\n",
      "cols(\n",
      "  X1 = col_double(),\n",
      "  no_of_months = col_double(),\n",
      "  no_of_commits = col_double(),\n",
      "  congruences = col_double()\n",
      ")\n",
      "Warning message:\n",
      "\"Missing column names filled in: 'X1' [1]\"Parsed with column specification:\n",
      "cols(\n",
      "  X1 = col_double(),\n",
      "  no_of_months = col_double(),\n",
      "  no_of_commits = col_double(),\n",
      "  congruences = col_double()\n",
      ")\n",
      "Warning message:\n",
      "\"Missing column names filled in: 'X1' [1]\"Parsed with column specification:\n",
      "cols(\n",
      "  X1 = col_character(),\n",
      "  no_of_months = col_double(),\n",
      "  no_of_commits = col_double(),\n",
      "  congruences = col_double()\n",
      ")\n",
      "Warning message:\n",
      "\"3 parsing failures.\n",
      "row col  expected    actual                                                                                       file\n",
      "  1  -- 4 columns 1 columns 'C:/Users/Ashwitha Kassetty/Documents/GitHub/MS_SEProject/csv files/Graduated/couchdb.csv'\n",
      "187  -- 4 columns 1 columns 'C:/Users/Ashwitha Kassetty/Documents/GitHub/MS_SEProject/csv files/Graduated/couchdb.csv'\n",
      "288  -- 4 columns 1 columns 'C:/Users/Ashwitha Kassetty/Documents/GitHub/MS_SEProject/csv files/Graduated/couchdb.csv'\n",
      "\"Warning message:\n",
      "\"Missing column names filled in: 'X1' [1]\"Parsed with column specification:\n",
      "cols(\n",
      "  X1 = col_double(),\n",
      "  no_of_months = col_double(),\n",
      "  no_of_commits = col_double(),\n",
      "  congruences = col_double()\n",
      ")\n",
      "Warning message:\n",
      "\"Missing column names filled in: 'X1' [1]\"Parsed with column specification:\n",
      "cols(\n",
      "  X1 = col_double(),\n",
      "  no_of_months = col_double(),\n",
      "  no_of_commits = col_double(),\n",
      "  congruences = col_double()\n",
      ")\n",
      "Warning message:\n",
      "\"Missing column names filled in: 'X1' [1]\"Parsed with column specification:\n",
      "cols(\n",
      "  X1 = col_double(),\n",
      "  no_of_months = col_double(),\n",
      "  no_of_commits = col_double(),\n",
      "  congruences = col_double()\n",
      ")\n",
      "Warning message:\n",
      "\"Missing column names filled in: 'X1' [1]\"Parsed with column specification:\n",
      "cols(\n",
      "  X1 = col_double(),\n",
      "  no_of_months = col_double(),\n",
      "  no_of_commits = col_double(),\n",
      "  congruences = col_double()\n",
      ")\n",
      "Warning message:\n",
      "\"Missing column names filled in: 'X1' [1]\"Parsed with column specification:\n",
      "cols(\n",
      "  X1 = col_double(),\n",
      "  no_of_months = col_double(),\n",
      "  no_of_commits = col_double(),\n",
      "  congruences = col_double()\n",
      ")\n",
      "Warning message:\n",
      "\"Missing column names filled in: 'X1' [1]\"Parsed with column specification:\n",
      "cols(\n",
      "  X1 = col_double(),\n",
      "  no_of_months = col_double(),\n",
      "  no_of_commits = col_double(),\n",
      "  congruences = col_double()\n",
      ")\n",
      "Warning message:\n",
      "\"Missing column names filled in: 'X1' [1]\"Parsed with column specification:\n",
      "cols(\n",
      "  X1 = col_double(),\n",
      "  no_of_months = col_double(),\n",
      "  no_of_commits = col_double(),\n",
      "  congruences = col_double()\n",
      ")\n",
      "Warning message:\n",
      "\"Missing column names filled in: 'X1' [1]\"Parsed with column specification:\n",
      "cols(\n",
      "  X1 = col_double(),\n",
      "  no_of_months = col_double(),\n",
      "  no_of_commits = col_double(),\n",
      "  congruences = col_double()\n",
      ")\n",
      "Warning message:\n",
      "\"Missing column names filled in: 'X1' [1]\"Parsed with column specification:\n",
      "cols(\n",
      "  X1 = col_double(),\n",
      "  no_of_months = col_double(),\n",
      "  no_of_commits = col_double(),\n",
      "  congruences = col_double()\n",
      ")\n",
      "Warning message:\n",
      "\"Missing column names filled in: 'X1' [1]\"Parsed with column specification:\n",
      "cols(\n",
      "  X1 = col_double(),\n",
      "  no_of_months = col_double(),\n",
      "  no_of_commits = col_double(),\n",
      "  congruences = col_double()\n",
      ")\n",
      "Warning message:\n",
      "\"Missing column names filled in: 'X1' [1]\"Parsed with column specification:\n",
      "cols(\n",
      "  X1 = col_double(),\n",
      "  no_of_months = col_double(),\n",
      "  no_of_commits = col_double(),\n",
      "  congruences = col_double()\n",
      ")\n",
      "Warning message:\n",
      "\"Missing column names filled in: 'X1' [1]\"Parsed with column specification:\n",
      "cols(\n",
      "  X1 = col_character(),\n",
      "  no_of_months = col_double(),\n",
      "  no_of_commits = col_double(),\n",
      "  congruences = col_double()\n",
      ")\n",
      "Warning message:\n",
      "\"3 parsing failures.\n",
      "row col  expected    actual                                                                                    file\n",
      "  1  -- 4 columns 1 columns 'C:/Users/Ashwitha Kassetty/Documents/GitHub/MS_SEProject/csv files/Graduated/hudi.csv'\n",
      " 66  -- 4 columns 1 columns 'C:/Users/Ashwitha Kassetty/Documents/GitHub/MS_SEProject/csv files/Graduated/hudi.csv'\n",
      "130  -- 4 columns 1 columns 'C:/Users/Ashwitha Kassetty/Documents/GitHub/MS_SEProject/csv files/Graduated/hudi.csv'\n",
      "\"Warning message:\n",
      "\"Missing column names filled in: 'X1' [1]\"Parsed with column specification:\n",
      "cols(\n",
      "  X1 = col_double(),\n",
      "  no_of_months = col_double(),\n",
      "  no_of_commits = col_double(),\n",
      "  congruences = col_double()\n",
      ")\n",
      "Warning message:\n",
      "\"Missing column names filled in: 'X1' [1]\"Parsed with column specification:\n",
      "cols(\n",
      "  X1 = col_double(),\n",
      "  no_of_months = col_double(),\n",
      "  no_of_commits = col_double(),\n",
      "  congruences = col_double()\n",
      ")\n",
      "Warning message:\n",
      "\"Missing column names filled in: 'X1' [1]\"Parsed with column specification:\n",
      "cols(\n",
      "  X1 = col_double(),\n",
      "  no_of_months = col_double(),\n",
      "  no_of_commits = col_double(),\n",
      "  congruences = col_double()\n",
      ")\n",
      "Warning message:\n",
      "\"Missing column names filled in: 'X1' [1]\"Parsed with column specification:\n",
      "cols(\n",
      "  X1 = col_double(),\n",
      "  no_of_months = col_double(),\n",
      "  no_of_commits = col_double(),\n",
      "  congruences = col_double()\n",
      ")\n",
      "Warning message:\n",
      "\"Missing column names filled in: 'X1' [1]\"Parsed with column specification:\n",
      "cols(\n",
      "  X1 = col_double(),\n",
      "  no_of_months = col_double(),\n",
      "  no_of_commits = col_double(),\n",
      "  congruences = col_double()\n",
      ")\n",
      "Warning message:\n",
      "\"Missing column names filled in: 'X1' [1]\"Parsed with column specification:\n",
      "cols(\n",
      "  X1 = col_double(),\n",
      "  no_of_months = col_double(),\n",
      "  no_of_commits = col_double(),\n",
      "  congruences = col_double()\n",
      ")\n"
     ]
    },
    {
     "name": "stderr",
     "output_type": "stream",
     "text": [
      "Warning message:\n",
      "\"Missing column names filled in: 'X1' [1]\"Parsed with column specification:\n",
      "cols(\n",
      "  X1 = col_double(),\n",
      "  no_of_months = col_double(),\n",
      "  no_of_commits = col_double(),\n",
      "  congruences = col_double()\n",
      ")\n",
      "Warning message:\n",
      "\"Missing column names filled in: 'X1' [1]\"Parsed with column specification:\n",
      "cols(\n",
      "  X1 = col_double(),\n",
      "  no_of_months = col_double(),\n",
      "  no_of_commits = col_double(),\n",
      "  congruences = col_double()\n",
      ")\n",
      "Warning message:\n",
      "\"Missing column names filled in: 'X1' [1]\"Parsed with column specification:\n",
      "cols(\n",
      "  X1 = col_double(),\n",
      "  no_of_months = col_double(),\n",
      "  no_of_commits = col_double(),\n",
      "  congruences = col_double()\n",
      ")\n",
      "Warning message:\n",
      "\"Missing column names filled in: 'X1' [1]\"Parsed with column specification:\n",
      "cols(\n",
      "  X1 = col_double(),\n",
      "  no_of_months = col_double(),\n",
      "  no_of_commits = col_double(),\n",
      "  congruences = col_double()\n",
      ")\n",
      "Warning message:\n",
      "\"Missing column names filled in: 'X1' [1]\"Parsed with column specification:\n",
      "cols(\n",
      "  X1 = col_double(),\n",
      "  no_of_months = col_double(),\n",
      "  no_of_commits = col_double(),\n",
      "  congruences = col_double()\n",
      ")\n",
      "Warning message:\n",
      "\"Missing column names filled in: 'X1' [1]\"Parsed with column specification:\n",
      "cols(\n",
      "  X1 = col_double(),\n",
      "  no_of_months = col_double(),\n",
      "  no_of_commits = col_double(),\n",
      "  congruences = col_double()\n",
      ")\n",
      "Warning message:\n",
      "\"Missing column names filled in: 'X1' [1]\"Parsed with column specification:\n",
      "cols(\n",
      "  X1 = col_double(),\n",
      "  no_of_months = col_double(),\n",
      "  no_of_commits = col_double(),\n",
      "  congruences = col_double()\n",
      ")\n",
      "Warning message:\n",
      "\"Missing column names filled in: 'X1' [1]\"Parsed with column specification:\n",
      "cols(\n",
      "  X1 = col_double(),\n",
      "  no_of_months = col_double(),\n",
      "  no_of_commits = col_double(),\n",
      "  congruences = col_double()\n",
      ")\n",
      "Warning message:\n",
      "\"Missing column names filled in: 'X1' [1]\"Parsed with column specification:\n",
      "cols(\n",
      "  X1 = col_double(),\n",
      "  no_of_months = col_double(),\n",
      "  no_of_commits = col_double(),\n",
      "  congruences = col_double()\n",
      ")\n",
      "Warning message:\n",
      "\"Missing column names filled in: 'X1' [1]\"Parsed with column specification:\n",
      "cols(\n",
      "  X1 = col_double(),\n",
      "  no_of_months = col_double(),\n",
      "  no_of_commits = col_double(),\n",
      "  congruences = col_double()\n",
      ")\n",
      "Warning message:\n",
      "\"Missing column names filled in: 'X1' [1]\"Parsed with column specification:\n",
      "cols(\n",
      "  X1 = col_double(),\n",
      "  no_of_months = col_double(),\n",
      "  no_of_commits = col_double(),\n",
      "  congruences = col_double()\n",
      ")\n",
      "Warning message:\n",
      "\"Missing column names filled in: 'X1' [1]\"Parsed with column specification:\n",
      "cols(\n",
      "  X1 = col_double(),\n",
      "  no_of_months = col_double(),\n",
      "  no_of_commits = col_double(),\n",
      "  congruences = col_double()\n",
      ")\n",
      "Warning message:\n",
      "\"Missing column names filled in: 'X1' [1]\"Parsed with column specification:\n",
      "cols(\n",
      "  X1 = col_double(),\n",
      "  no_of_months = col_double(),\n",
      "  no_of_commits = col_double(),\n",
      "  congruences = col_double()\n",
      ")\n"
     ]
    }
   ],
   "source": [
    "grad_csv = ldply(gradfiles, read_csv)\n",
    "#dat_csv"
   ]
  },
  {
   "cell_type": "markdown",
   "id": "8311b170",
   "metadata": {},
   "source": [
    "Model 3: Congruences ~ No. of Months (Graduated)"
   ]
  },
  {
   "cell_type": "code",
   "execution_count": 14,
   "id": "6d4fb735",
   "metadata": {},
   "outputs": [
    {
     "data": {
      "text/plain": [
       "\n",
       "Call:\n",
       "lm(formula = congruences ~ no_of_months, data = curr_csv)\n",
       "\n",
       "Residuals:\n",
       "     Min       1Q   Median       3Q      Max \n",
       "-0.58943 -0.17838 -0.05009  0.12570  0.44657 \n",
       "\n",
       "Coefficients:\n",
       "               Estimate Std. Error t value Pr(>|t|)    \n",
       "(Intercept)   0.5925062  0.0083528  70.935   <2e-16 ***\n",
       "no_of_months -0.0002368  0.0001878  -1.261    0.207    \n",
       "---\n",
       "Signif. codes:  0 '***' 0.001 '**' 0.01 '*' 0.05 '.' 0.1 ' ' 1\n",
       "\n",
       "Residual standard error: 0.2553 on 2144 degrees of freedom\n",
       "  (30 observations deleted due to missingness)\n",
       "Multiple R-squared:  0.000741,\tAdjusted R-squared:  0.0002749 \n",
       "F-statistic:  1.59 on 1 and 2144 DF,  p-value: 0.2075\n"
      ]
     },
     "metadata": {},
     "output_type": "display_data"
    },
    {
     "data": {
      "text/html": [
       "<strong>png:</strong> 2"
      ],
      "text/latex": [
       "\\textbf{png:} 2"
      ],
      "text/markdown": [
       "**png:** 2"
      ],
      "text/plain": [
       "png \n",
       "  2 "
      ]
     },
     "metadata": {},
     "output_type": "display_data"
    },
    {
     "data": {
      "text/html": [
       "<table>\n",
       "<thead><tr><th></th><th scope=col>Df</th><th scope=col>Sum Sq</th><th scope=col>Mean Sq</th><th scope=col>F value</th><th scope=col>Pr(&gt;F)</th></tr></thead>\n",
       "<tbody>\n",
       "\t<tr><th scope=row>no_of_months</th><td>   1        </td><td>  2.96761   </td><td>2.96761023  </td><td>61.40007    </td><td>5.797272e-15</td></tr>\n",
       "\t<tr><th scope=row>Residuals</th><td>4406        </td><td>212.95238   </td><td>0.04833236  </td><td>      NA    </td><td>          NA</td></tr>\n",
       "</tbody>\n",
       "</table>\n"
      ],
      "text/latex": [
       "\\begin{tabular}{r|lllll}\n",
       "  & Df & Sum Sq & Mean Sq & F value & Pr(>F)\\\\\n",
       "\\hline\n",
       "\tno\\_of\\_months &    1         &   2.96761    & 2.96761023   & 61.40007     & 5.797272e-15\\\\\n",
       "\tResiduals & 4406         & 212.95238    & 0.04833236   &       NA     &           NA\\\\\n",
       "\\end{tabular}\n"
      ],
      "text/markdown": [
       "\n",
       "| <!--/--> | Df | Sum Sq | Mean Sq | F value | Pr(>F) |\n",
       "|---|---|---|---|---|---|\n",
       "| no_of_months |    1         |   2.96761    | 2.96761023   | 61.40007     | 5.797272e-15 |\n",
       "| Residuals | 4406         | 212.95238    | 0.04833236   |       NA     |           NA |\n",
       "\n"
      ],
      "text/plain": [
       "             Df   Sum Sq    Mean Sq    F value  Pr(>F)      \n",
       "no_of_months    1   2.96761 2.96761023 61.40007 5.797272e-15\n",
       "Residuals    4406 212.95238 0.04833236       NA           NA"
      ]
     },
     "metadata": {},
     "output_type": "display_data"
    }
   ],
   "source": [
    "model3 = lm(congruences ~ no_of_months, data=grad_csv)\n",
    "summary(model1)\n",
    "#vif(m1)\n",
    "png(\"C:/Users/Ashwitha Kassetty/Documents/GitHub/MS_SEProject/results/Graduated_Model3.png\", width = 800, height = 500)\n",
    "par(mfrow=c(1,2))\n",
    "plot(model3)\n",
    "dev.off()\n",
    "anova(model3)"
   ]
  },
  {
   "cell_type": "markdown",
   "id": "571e1422",
   "metadata": {},
   "source": [
    "Model 4: Congruences ~ No. of Commits (Graduated)"
   ]
  },
  {
   "cell_type": "code",
   "execution_count": 15,
   "id": "bc98a03a",
   "metadata": {},
   "outputs": [
    {
     "data": {
      "text/plain": [
       "\n",
       "Call:\n",
       "lm(formula = congruences ~ no_of_commits, data = grad_csv)\n",
       "\n",
       "Residuals:\n",
       "     Min       1Q   Median       3Q      Max \n",
       "-0.60432 -0.14296 -0.04611  0.08880  0.94971 \n",
       "\n",
       "Coefficients:\n",
       "                Estimate Std. Error t value Pr(>|t|)    \n",
       "(Intercept)    6.043e-01  3.978e-03  151.93   <2e-16 ***\n",
       "no_of_commits -4.257e-04  2.759e-05  -15.43   <2e-16 ***\n",
       "---\n",
       "Signif. codes:  0 '***' 0.001 '**' 0.01 '*' 0.05 '.' 0.1 ' ' 1\n",
       "\n",
       "Residual standard error: 0.2156 on 4406 degrees of freedom\n",
       "  (6 observations deleted due to missingness)\n",
       "Multiple R-squared:  0.05127,\tAdjusted R-squared:  0.05105 \n",
       "F-statistic: 238.1 on 1 and 4406 DF,  p-value: < 2.2e-16\n"
      ]
     },
     "metadata": {},
     "output_type": "display_data"
    },
    {
     "data": {
      "text/html": [
       "<strong>png:</strong> 2"
      ],
      "text/latex": [
       "\\textbf{png:} 2"
      ],
      "text/markdown": [
       "**png:** 2"
      ],
      "text/plain": [
       "png \n",
       "  2 "
      ]
     },
     "metadata": {},
     "output_type": "display_data"
    },
    {
     "data": {
      "text/html": [
       "<table>\n",
       "<thead><tr><th></th><th scope=col>Df</th><th scope=col>Sum Sq</th><th scope=col>Mean Sq</th><th scope=col>F value</th><th scope=col>Pr(&gt;F)</th></tr></thead>\n",
       "<tbody>\n",
       "\t<tr><th scope=row>no_of_commits</th><td>   1        </td><td> 11.07024   </td><td>11.07024367 </td><td>238.1038    </td><td>2.334844e-52</td></tr>\n",
       "\t<tr><th scope=row>Residuals</th><td>4406        </td><td>204.84974   </td><td> 0.04649336 </td><td>      NA    </td><td>          NA</td></tr>\n",
       "</tbody>\n",
       "</table>\n"
      ],
      "text/latex": [
       "\\begin{tabular}{r|lllll}\n",
       "  & Df & Sum Sq & Mean Sq & F value & Pr(>F)\\\\\n",
       "\\hline\n",
       "\tno\\_of\\_commits &    1         &  11.07024    & 11.07024367  & 238.1038     & 2.334844e-52\\\\\n",
       "\tResiduals & 4406         & 204.84974    &  0.04649336  &       NA     &           NA\\\\\n",
       "\\end{tabular}\n"
      ],
      "text/markdown": [
       "\n",
       "| <!--/--> | Df | Sum Sq | Mean Sq | F value | Pr(>F) |\n",
       "|---|---|---|---|---|---|\n",
       "| no_of_commits |    1         |  11.07024    | 11.07024367  | 238.1038     | 2.334844e-52 |\n",
       "| Residuals | 4406         | 204.84974    |  0.04649336  |       NA     |           NA |\n",
       "\n"
      ],
      "text/plain": [
       "              Df   Sum Sq    Mean Sq     F value  Pr(>F)      \n",
       "no_of_commits    1  11.07024 11.07024367 238.1038 2.334844e-52\n",
       "Residuals     4406 204.84974  0.04649336       NA           NA"
      ]
     },
     "metadata": {},
     "output_type": "display_data"
    }
   ],
   "source": [
    "model4 = lm(congruences ~ no_of_commits, data=grad_csv)\n",
    "summary(model4)\n",
    "#vif(m1)\n",
    "png(\"C:/Users/Ashwitha Kassetty/Documents/GitHub/MS_SEProject/results/Graduated_Model4.png\", width = 800, height = 500)\n",
    "par(mfrow=c(1,2))\n",
    "plot(model4)\n",
    "dev.off()\n",
    "anova(model4)"
   ]
  },
  {
   "cell_type": "markdown",
   "id": "aacfab06",
   "metadata": {},
   "source": [
    "### Retired Directory"
   ]
  },
  {
   "cell_type": "code",
   "execution_count": 16,
   "id": "ee6ce9c2",
   "metadata": {},
   "outputs": [],
   "source": [
    "retdir = \"C:/Users/Ashwitha Kassetty/Documents/GitHub/MS_SEProject/csv files/Retired\"\n",
    "retfiles = list.files(path=retdir, pattern=\"*.csv\", full.names=TRUE)\n",
    "#myfiles"
   ]
  },
  {
   "cell_type": "code",
   "execution_count": 17,
   "id": "4be78a91",
   "metadata": {},
   "outputs": [
    {
     "name": "stderr",
     "output_type": "stream",
     "text": [
      "Warning message:\n",
      "\"Missing column names filled in: 'X1' [1]\"Parsed with column specification:\n",
      "cols(\n",
      "  X1 = col_double(),\n",
      "  no_of_months = col_double(),\n",
      "  no_of_commits = col_double(),\n",
      "  congruences = col_double()\n",
      ")\n",
      "Warning message:\n",
      "\"Missing column names filled in: 'X1' [1]\"Parsed with column specification:\n",
      "cols(\n",
      "  X1 = col_double(),\n",
      "  no_of_months = col_double(),\n",
      "  no_of_commits = col_double(),\n",
      "  congruences = col_double()\n",
      ")\n",
      "Warning message:\n",
      "\"Missing column names filled in: 'X1' [1]\"Parsed with column specification:\n",
      "cols(\n",
      "  X1 = col_double(),\n",
      "  no_of_months = col_double(),\n",
      "  no_of_commits = col_double(),\n",
      "  congruences = col_double()\n",
      ")\n",
      "Warning message:\n",
      "\"Missing column names filled in: 'X1' [1]\"Parsed with column specification:\n",
      "cols(\n",
      "  X1 = col_double(),\n",
      "  no_of_months = col_double(),\n",
      "  no_of_commits = col_double(),\n",
      "  congruences = col_double()\n",
      ")\n",
      "Warning message:\n",
      "\"Missing column names filled in: 'X1' [1]\"Parsed with column specification:\n",
      "cols(\n",
      "  X1 = col_double(),\n",
      "  no_of_months = col_double(),\n",
      "  no_of_commits = col_double(),\n",
      "  congruences = col_double()\n",
      ")\n",
      "Warning message:\n",
      "\"Missing column names filled in: 'X1' [1]\"Parsed with column specification:\n",
      "cols(\n",
      "  X1 = col_double(),\n",
      "  no_of_months = col_double(),\n",
      "  no_of_commits = col_double(),\n",
      "  congruences = col_double()\n",
      ")\n",
      "Warning message:\n",
      "\"Missing column names filled in: 'X1' [1]\"Parsed with column specification:\n",
      "cols(\n",
      "  X1 = col_double(),\n",
      "  no_of_months = col_double(),\n",
      "  no_of_commits = col_double(),\n",
      "  congruences = col_double()\n",
      ")\n",
      "Warning message:\n",
      "\"Missing column names filled in: 'X1' [1]\"Parsed with column specification:\n",
      "cols(\n",
      "  X1 = col_double(),\n",
      "  no_of_months = col_double(),\n",
      "  no_of_commits = col_double(),\n",
      "  congruences = col_double()\n",
      ")\n",
      "Warning message:\n",
      "\"Missing column names filled in: 'X1' [1]\"Parsed with column specification:\n",
      "cols(\n",
      "  X1 = col_double(),\n",
      "  no_of_months = col_double(),\n",
      "  no_of_commits = col_double(),\n",
      "  congruences = col_double()\n",
      ")\n",
      "Warning message:\n",
      "\"Missing column names filled in: 'X1' [1]\"Parsed with column specification:\n",
      "cols(\n",
      "  X1 = col_double(),\n",
      "  no_of_months = col_double(),\n",
      "  no_of_commits = col_double(),\n",
      "  congruences = col_double()\n",
      ")\n",
      "Warning message:\n",
      "\"Missing column names filled in: 'X1' [1]\"Parsed with column specification:\n",
      "cols(\n",
      "  X1 = col_double(),\n",
      "  no_of_months = col_double(),\n",
      "  no_of_commits = col_double(),\n",
      "  congruences = col_double()\n",
      ")\n",
      "Warning message:\n",
      "\"Missing column names filled in: 'X1' [1]\"Parsed with column specification:\n",
      "cols(\n",
      "  X1 = col_double(),\n",
      "  no_of_months = col_double(),\n",
      "  no_of_commits = col_double(),\n",
      "  congruences = col_double()\n",
      ")\n",
      "Warning message:\n",
      "\"Missing column names filled in: 'X1' [1]\"Parsed with column specification:\n",
      "cols(\n",
      "  X1 = col_double(),\n",
      "  no_of_months = col_double(),\n",
      "  no_of_commits = col_double(),\n",
      "  congruences = col_double()\n",
      ")\n",
      "Warning message:\n",
      "\"Missing column names filled in: 'X1' [1]\"Parsed with column specification:\n",
      "cols(\n",
      "  X1 = col_double(),\n",
      "  no_of_months = col_double(),\n",
      "  no_of_commits = col_double(),\n",
      "  congruences = col_double()\n",
      ")\n",
      "Warning message:\n",
      "\"Missing column names filled in: 'X1' [1]\"Parsed with column specification:\n",
      "cols(\n",
      "  X1 = col_double(),\n",
      "  no_of_months = col_double(),\n",
      "  no_of_commits = col_double(),\n",
      "  congruences = col_double()\n",
      ")\n",
      "Warning message:\n",
      "\"Missing column names filled in: 'X1' [1]\"Parsed with column specification:\n",
      "cols(\n",
      "  X1 = col_double(),\n",
      "  no_of_months = col_double(),\n",
      "  no_of_commits = col_double(),\n",
      "  congruences = col_double()\n",
      ")\n",
      "Warning message:\n",
      "\"Missing column names filled in: 'X1' [1]\"Parsed with column specification:\n",
      "cols(\n",
      "  X1 = col_double(),\n",
      "  no_of_months = col_double(),\n",
      "  no_of_commits = col_double(),\n",
      "  congruences = col_double()\n",
      ")\n",
      "Warning message:\n",
      "\"Missing column names filled in: 'X1' [1]\"Parsed with column specification:\n",
      "cols(\n",
      "  X1 = col_double(),\n",
      "  no_of_months = col_double(),\n",
      "  no_of_commits = col_double(),\n",
      "  congruences = col_double()\n",
      ")\n",
      "Warning message:\n",
      "\"Missing column names filled in: 'X1' [1]\"Parsed with column specification:\n",
      "cols(\n",
      "  X1 = col_double(),\n",
      "  no_of_months = col_double(),\n",
      "  no_of_commits = col_double(),\n",
      "  congruences = col_double()\n",
      ")\n",
      "Warning message:\n",
      "\"Missing column names filled in: 'X1' [1]\"Parsed with column specification:\n",
      "cols(\n",
      "  X1 = col_double(),\n",
      "  no_of_months = col_double(),\n",
      "  no_of_commits = col_double(),\n",
      "  congruences = col_double()\n",
      ")\n",
      "Warning message:\n",
      "\"Missing column names filled in: 'X1' [1]\"Parsed with column specification:\n",
      "cols(\n",
      "  X1 = col_double(),\n",
      "  no_of_months = col_double(),\n",
      "  no_of_commits = col_double(),\n",
      "  congruences = col_double()\n",
      ")\n",
      "Warning message:\n",
      "\"Missing column names filled in: 'X1' [1]\"Parsed with column specification:\n",
      "cols(\n",
      "  X1 = col_double(),\n",
      "  no_of_months = col_double(),\n",
      "  no_of_commits = col_double(),\n",
      "  congruences = col_double()\n",
      ")\n",
      "Warning message:\n",
      "\"Missing column names filled in: 'X1' [1]\"Parsed with column specification:\n",
      "cols(\n",
      "  X1 = col_double(),\n",
      "  no_of_months = col_double(),\n",
      "  no_of_commits = col_double(),\n",
      "  congruences = col_double()\n",
      ")\n",
      "Warning message:\n",
      "\"Missing column names filled in: 'X1' [1]\"Parsed with column specification:\n",
      "cols(\n",
      "  X1 = col_double(),\n",
      "  no_of_months = col_double(),\n",
      "  no_of_commits = col_double(),\n",
      "  congruences = col_double()\n",
      ")\n",
      "Warning message:\n",
      "\"Missing column names filled in: 'X1' [1]\"Parsed with column specification:\n",
      "cols(\n",
      "  X1 = col_double(),\n",
      "  no_of_months = col_double(),\n",
      "  no_of_commits = col_double(),\n",
      "  congruences = col_double()\n",
      ")\n",
      "Warning message:\n",
      "\"Missing column names filled in: 'X1' [1]\"Parsed with column specification:\n",
      "cols(\n",
      "  X1 = col_double(),\n",
      "  no_of_months = col_double(),\n",
      "  no_of_commits = col_double(),\n",
      "  congruences = col_double()\n",
      ")\n",
      "Warning message:\n",
      "\"Missing column names filled in: 'X1' [1]\"Parsed with column specification:\n",
      "cols(\n",
      "  X1 = col_double(),\n",
      "  no_of_months = col_double(),\n",
      "  no_of_commits = col_double(),\n",
      "  congruences = col_double()\n",
      ")\n",
      "Warning message:\n",
      "\"Missing column names filled in: 'X1' [1]\"Parsed with column specification:\n",
      "cols(\n",
      "  X1 = col_double(),\n",
      "  no_of_months = col_double(),\n",
      "  no_of_commits = col_double(),\n",
      "  congruences = col_double()\n",
      ")\n",
      "Warning message:\n",
      "\"Missing column names filled in: 'X1' [1]\"Parsed with column specification:\n",
      "cols(\n",
      "  X1 = col_double(),\n",
      "  no_of_months = col_double(),\n",
      "  no_of_commits = col_double(),\n",
      "  congruences = col_double()\n",
      ")\n",
      "Warning message:\n",
      "\"Missing column names filled in: 'X1' [1]\"Parsed with column specification:\n",
      "cols(\n",
      "  X1 = col_double(),\n",
      "  no_of_months = col_double(),\n",
      "  no_of_commits = col_double(),\n",
      "  congruences = col_double()\n",
      ")\n",
      "Warning message:\n",
      "\"Missing column names filled in: 'X1' [1]\"Parsed with column specification:\n",
      "cols(\n",
      "  X1 = col_double(),\n",
      "  no_of_months = col_double(),\n",
      "  no_of_commits = col_double(),\n",
      "  congruences = col_double()\n",
      ")\n",
      "Warning message:\n",
      "\"Missing column names filled in: 'X1' [1]\"Parsed with column specification:\n",
      "cols(\n",
      "  X1 = col_double(),\n",
      "  no_of_months = col_double(),\n",
      "  no_of_commits = col_double(),\n",
      "  congruences = col_double()\n",
      ")\n",
      "Warning message:\n",
      "\"Missing column names filled in: 'X1' [1]\"Parsed with column specification:\n",
      "cols(\n",
      "  X1 = col_double(),\n",
      "  no_of_months = col_double(),\n",
      "  no_of_commits = col_double(),\n",
      "  congruences = col_double()\n",
      ")\n",
      "Warning message:\n",
      "\"Missing column names filled in: 'X1' [1]\"Parsed with column specification:\n",
      "cols(\n",
      "  X1 = col_double(),\n",
      "  no_of_months = col_double(),\n",
      "  no_of_commits = col_double(),\n",
      "  congruences = col_double()\n",
      ")\n",
      "Warning message:\n",
      "\"Missing column names filled in: 'X1' [1]\"Parsed with column specification:\n",
      "cols(\n",
      "  X1 = col_double(),\n",
      "  no_of_months = col_double(),\n",
      "  no_of_commits = col_double(),\n",
      "  congruences = col_double()\n",
      ")\n",
      "Warning message:\n",
      "\"Missing column names filled in: 'X1' [1]\"Parsed with column specification:\n",
      "cols(\n",
      "  X1 = col_double(),\n",
      "  no_of_months = col_double(),\n",
      "  no_of_commits = col_double(),\n",
      "  congruences = col_double()\n",
      ")\n",
      "Warning message:\n",
      "\"Missing column names filled in: 'X1' [1]\"Parsed with column specification:\n",
      "cols(\n",
      "  X1 = col_double(),\n",
      "  no_of_months = col_double(),\n",
      "  no_of_commits = col_double(),\n",
      "  congruences = col_double()\n",
      ")\n",
      "Warning message:\n",
      "\"Missing column names filled in: 'X1' [1]\"Parsed with column specification:\n",
      "cols(\n",
      "  X1 = col_double(),\n",
      "  no_of_months = col_double(),\n",
      "  no_of_commits = col_double(),\n",
      "  congruences = col_double()\n",
      ")\n",
      "Warning message:\n",
      "\"Missing column names filled in: 'X1' [1]\"Parsed with column specification:\n",
      "cols(\n",
      "  X1 = col_double(),\n",
      "  no_of_months = col_double(),\n",
      "  no_of_commits = col_double(),\n",
      "  congruences = col_double()\n",
      ")\n"
     ]
    },
    {
     "name": "stderr",
     "output_type": "stream",
     "text": [
      "Warning message:\n",
      "\"Missing column names filled in: 'X1' [1]\"Parsed with column specification:\n",
      "cols(\n",
      "  X1 = col_double(),\n",
      "  no_of_months = col_double(),\n",
      "  no_of_commits = col_double(),\n",
      "  congruences = col_double()\n",
      ")\n"
     ]
    }
   ],
   "source": [
    "ret_csv = ldply(retfiles, read_csv)\n",
    "#dat_csv"
   ]
  },
  {
   "cell_type": "markdown",
   "id": "e245f3b7",
   "metadata": {},
   "source": [
    "Model 5: Congruences ~ No. of Months (Retired)"
   ]
  },
  {
   "cell_type": "code",
   "execution_count": 18,
   "id": "7cbcfcf9",
   "metadata": {},
   "outputs": [
    {
     "data": {
      "text/plain": [
       "\n",
       "Call:\n",
       "lm(formula = congruences ~ no_of_months, data = ret_csv)\n",
       "\n",
       "Residuals:\n",
       "    Min      1Q  Median      3Q     Max \n",
       "-0.6237 -0.2150 -0.1067  0.3785  0.4155 \n",
       "\n",
       "Coefficients:\n",
       "               Estimate Std. Error t value Pr(>|t|)    \n",
       "(Intercept)   0.6240779  0.0120748  51.684   <2e-16 ***\n",
       "no_of_months -0.0003661  0.0003385  -1.082     0.28    \n",
       "---\n",
       "Signif. codes:  0 '***' 0.001 '**' 0.01 '*' 0.05 '.' 0.1 ' ' 1\n",
       "\n",
       "Residual standard error: 0.2867 on 1340 degrees of freedom\n",
       "Multiple R-squared:  0.0008723,\tAdjusted R-squared:  0.0001267 \n",
       "F-statistic:  1.17 on 1 and 1340 DF,  p-value: 0.2796\n"
      ]
     },
     "metadata": {},
     "output_type": "display_data"
    },
    {
     "data": {
      "text/html": [
       "<strong>png:</strong> 2"
      ],
      "text/latex": [
       "\\textbf{png:} 2"
      ],
      "text/markdown": [
       "**png:** 2"
      ],
      "text/plain": [
       "png \n",
       "  2 "
      ]
     },
     "metadata": {},
     "output_type": "display_data"
    },
    {
     "data": {
      "image/png": "[encoded data removed]",
      "text/plain": [
       "Plot with title \"\""
      ]
     },
     "metadata": {},
     "output_type": "display_data"
    },
    {
     "data": {
      "image/png": "[encoded data removed]",
      "text/plain": [
       "Plot with title \"\""
      ]
     },
     "metadata": {},
     "output_type": "display_data"
    },
    {
     "data": {
      "image/png": "[encoded data removed]",
      "text/plain": [
       "Plot with title \"\""
      ]
     },
     "metadata": {},
     "output_type": "display_data"
    },
    {
     "data": {
      "text/html": [
       "<table>\n",
       "<thead><tr><th></th><th scope=col>Df</th><th scope=col>Sum Sq</th><th scope=col>Mean Sq</th><th scope=col>F value</th><th scope=col>Pr(&gt;F)</th></tr></thead>\n",
       "<tbody>\n",
       "\t<tr><th scope=row>no_of_months</th><td>   1        </td><td>  0.09617382</td><td>0.09617382  </td><td>1.169953    </td><td>0.2796055   </td></tr>\n",
       "\t<tr><th scope=row>Residuals</th><td>1340        </td><td>110.15220092</td><td>0.08220314  </td><td>      NA    </td><td>       NA   </td></tr>\n",
       "</tbody>\n",
       "</table>\n"
      ],
      "text/latex": [
       "\\begin{tabular}{r|lllll}\n",
       "  & Df & Sum Sq & Mean Sq & F value & Pr(>F)\\\\\n",
       "\\hline\n",
       "\tno\\_of\\_months &    1         &   0.09617382 & 0.09617382   & 1.169953     & 0.2796055   \\\\\n",
       "\tResiduals & 1340         & 110.15220092 & 0.08220314   &       NA     &        NA   \\\\\n",
       "\\end{tabular}\n"
      ],
      "text/markdown": [
       "\n",
       "| <!--/--> | Df | Sum Sq | Mean Sq | F value | Pr(>F) |\n",
       "|---|---|---|---|---|---|\n",
       "| no_of_months |    1         |   0.09617382 | 0.09617382   | 1.169953     | 0.2796055    |\n",
       "| Residuals | 1340         | 110.15220092 | 0.08220314   |       NA     |        NA    |\n",
       "\n"
      ],
      "text/plain": [
       "             Df   Sum Sq       Mean Sq    F value  Pr(>F)   \n",
       "no_of_months    1   0.09617382 0.09617382 1.169953 0.2796055\n",
       "Residuals    1340 110.15220092 0.08220314       NA        NA"
      ]
     },
     "metadata": {},
     "output_type": "display_data"
    },
    {
     "data": {
      "image/png": "[encoded data removed]",
      "text/plain": [
       "Plot with title \"\""
      ]
     },
     "metadata": {},
     "output_type": "display_data"
    }
   ],
   "source": [
    "model5 = lm(congruences ~ no_of_months, data=ret_csv)\n",
    "summary(model5)\n",
    "#vif(m1)\n",
    "png(\"C:/Users/Ashwitha Kassetty/Documents/GitHub/MS_SEProject/results/Retired_Model5.png\", width = 800, height = 500)\n",
    "par(mfrow=c(1,2))\n",
    "dev.off()\n",
    "plot(model5)\n",
    "anova(model5)"
   ]
  },
  {
   "cell_type": "markdown",
   "id": "a74d3c19",
   "metadata": {},
   "source": [
    "Model 6: Congruences ~ No. of Commits (Retired)"
   ]
  },
  {
   "cell_type": "code",
   "execution_count": 19,
   "id": "bde7b5a3",
   "metadata": {},
   "outputs": [
    {
     "data": {
      "text/plain": [
       "\n",
       "Call:\n",
       "lm(formula = congruences ~ no_of_commits, data = ret_csv)\n",
       "\n",
       "Residuals:\n",
       "     Min       1Q   Median       3Q      Max \n",
       "-0.70347 -0.18480 -0.06947  0.30473  0.96784 \n",
       "\n",
       "Coefficients:\n",
       "                Estimate Std. Error t value Pr(>|t|)    \n",
       "(Intercept)    0.7034725  0.0090987   77.31   <2e-16 ***\n",
       "no_of_commits -0.0027347  0.0001712  -15.97   <2e-16 ***\n",
       "---\n",
       "Signif. codes:  0 '***' 0.001 '**' 0.01 '*' 0.05 '.' 0.1 ' ' 1\n",
       "\n",
       "Residual standard error: 0.2629 on 1340 degrees of freedom\n",
       "Multiple R-squared:  0.1599,\tAdjusted R-squared:  0.1593 \n",
       "F-statistic: 255.1 on 1 and 1340 DF,  p-value: < 2.2e-16\n"
      ]
     },
     "metadata": {},
     "output_type": "display_data"
    },
    {
     "data": {
      "text/html": [
       "<strong>png:</strong> 2"
      ],
      "text/latex": [
       "\\textbf{png:} 2"
      ],
      "text/markdown": [
       "**png:** 2"
      ],
      "text/plain": [
       "png \n",
       "  2 "
      ]
     },
     "metadata": {},
     "output_type": "display_data"
    },
    {
     "data": {
      "text/html": [
       "<table>\n",
       "<thead><tr><th></th><th scope=col>Df</th><th scope=col>Sum Sq</th><th scope=col>Mean Sq</th><th scope=col>F value</th><th scope=col>Pr(&gt;F)</th></tr></thead>\n",
       "<tbody>\n",
       "\t<tr><th scope=row>no_of_commits</th><td>   1        </td><td>17.63326    </td><td>17.63326475 </td><td>255.1266    </td><td>1.052226e-52</td></tr>\n",
       "\t<tr><th scope=row>Residuals</th><td>1340        </td><td>92.61511    </td><td> 0.06911575 </td><td>      NA    </td><td>          NA</td></tr>\n",
       "</tbody>\n",
       "</table>\n"
      ],
      "text/latex": [
       "\\begin{tabular}{r|lllll}\n",
       "  & Df & Sum Sq & Mean Sq & F value & Pr(>F)\\\\\n",
       "\\hline\n",
       "\tno\\_of\\_commits &    1         & 17.63326     & 17.63326475  & 255.1266     & 1.052226e-52\\\\\n",
       "\tResiduals & 1340         & 92.61511     &  0.06911575  &       NA     &           NA\\\\\n",
       "\\end{tabular}\n"
      ],
      "text/markdown": [
       "\n",
       "| <!--/--> | Df | Sum Sq | Mean Sq | F value | Pr(>F) |\n",
       "|---|---|---|---|---|---|\n",
       "| no_of_commits |    1         | 17.63326     | 17.63326475  | 255.1266     | 1.052226e-52 |\n",
       "| Residuals | 1340         | 92.61511     |  0.06911575  |       NA     |           NA |\n",
       "\n"
      ],
      "text/plain": [
       "              Df   Sum Sq   Mean Sq     F value  Pr(>F)      \n",
       "no_of_commits    1 17.63326 17.63326475 255.1266 1.052226e-52\n",
       "Residuals     1340 92.61511  0.06911575       NA           NA"
      ]
     },
     "metadata": {},
     "output_type": "display_data"
    }
   ],
   "source": [
    "model6 = lm(congruences ~ no_of_commits, data=ret_csv)\n",
    "summary(model6)\n",
    "#vif(m1)\n",
    "png(\"C:/Users/Ashwitha Kassetty/Documents/GitHub/MS_SEProject/results/Retired_Model6.png\", width = 800, height = 500)\n",
    "par(mfrow=c(1,2))\n",
    "plot(model6)\n",
    "dev.off()\n",
    "anova(model6)"
   ]
  },
  {
   "cell_type": "code",
   "execution_count": null,
   "id": "74a15529",
   "metadata": {},
   "outputs": [],
   "source": []
  }
 ],
 "metadata": {
  "kernelspec": {
   "display_name": "R",
   "language": "R",
   "name": "ir"
  },
  "language_info": {
   "codemirror_mode": "r",
   "file_extension": ".r",
   "mimetype": "text/x-r-source",
   "name": "R",
   "pygments_lexer": "r",
   "version": "3.6.1"
  }
 },
 "nbformat": 4,
 "nbformat_minor": 5
}
