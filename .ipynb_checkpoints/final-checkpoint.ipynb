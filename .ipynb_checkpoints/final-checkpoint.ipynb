{
 "cells": [
  {
   "cell_type": "code",
   "execution_count": null,
   "metadata": {},
   "outputs": [],
   "source": [
    "from pydriller import Repository\n",
    "import datetime\n",
    "\n",
    "repo = 'hive'\n",
    "url = \"E:\\\\MS\\\\Qtr1\\\\ecs 260 se\\\\project\\\\hive\\\\.git\"\n",
    "\n",
    "commits = list(Repository(url).traverse_commits())\n",
    "no_of_commits = []\n",
    "total_commits = []\n",
    "i=0\n",
    "delta = datetime.timedelta(weeks=4)\n",
    "while i < len(commits):\n",
    "#     print(commits[i].author_date)\n",
    "    date1 = commits[i].author_date\n",
    "    j = i+1\n",
    "    while j<len(commits) and commits[j].author_date -date1 <= delta:\n",
    "        j+=1\n",
    "    if j>=len(commits):\n",
    "        break\n",
    "    date2 = commits[j].author_date\n",
    "    date3 = commits[j-1].author_date\n",
    "    total_commits.append(j)\n",
    "    i = j+1\n",
    "total_commits.append(j) \n",
    "\n",
    "no_of_commits = [0]+[total_commits[0]] +[total_commits[i] - total_commits[i-1] for i in range(1, len(total_commits))]\n",
    "total_commits = [0] + total_commits"
   ]
  },
  {
   "cell_type": "code",
   "execution_count": null,
   "metadata": {},
   "outputs": [],
   "source": [
    "print(total_commits[-1])"
   ]
  },
  {
   "cell_type": "code",
   "execution_count": null,
   "metadata": {
    "scrolled": false
   },
   "outputs": [],
   "source": [
    "from pydriller import Repository\n",
    "import json\n",
    "import numpy as np\n",
    "import pandas as pd\n",
    "import matplotlib.pyplot as plt\n",
    "import datetime\n",
    "\n",
    "\n",
    "steps = []\n",
    "congruences = []\n",
    "commits = list(Repository(url).traverse_commits())\n",
    "delta = datetime.timedelta(weeks=4)\n",
    "# step = int(len(commits)/100)\n",
    "# for k in range(0,len(commits), step):\n",
    "for k in range(0, len(no_of_commits)-1):\n",
    "    i = 0\n",
    "    file_to_users = {}  ## for each file how many users commited\n",
    "    file_to_id = {}     ##\n",
    "    tmp_commits = commits[total_commits[k]:total_commits[k+1]]\n",
    "    print(\"reached till commits: \",total_commits[k])\n",
    "#     if(len(tmp_commits)<step):\n",
    "#         break\n",
    "    for commit in tmp_commits:\n",
    "        #print('The commit  has been modified by {} on {} and files changed are {}\\n'.\n",
    "              #format(commit.author.email,commit.committer_date,[x.filename for x in commit.modified_files]))\n",
    "        \n",
    "        \n",
    "        for x in commit.modified_files:\n",
    "            if x.filename not in file_to_users:\n",
    "                file_to_users[x.filename] = set()\n",
    "                file_to_users[x.filename].add(str(commit.author.email))\n",
    "                if x.filename not in file_to_id:\n",
    "                    file_to_id[x.filename] = i\n",
    "                    i = i+1\n",
    "            else:\n",
    "                file_to_users[x.filename].add(str(commit.author.email))\n",
    "                if x.filename not in file_to_id:\n",
    "                    file_to_id[x.filename] = i\n",
    "                    i = i+1\n",
    "\n",
    "\n",
    "    ### Identifing unique users for each files\n",
    "    unique_users_dict = {}\n",
    "    unique_users = set()\n",
    "    i = 0\n",
    "    for x in file_to_users.keys():\n",
    "        file_to_users[x] = list(file_to_users[x])\n",
    "        for user in file_to_users[x]:\n",
    "            if user not in unique_users_dict:\n",
    "                unique_users_dict[user] = i\n",
    "                i=i+1\n",
    "            unique_users.add(user)\n",
    "\n",
    "\n",
    "    ### Calculation of Actual Coordination - fct (file changed together)\n",
    "    ## Assumption - 1 files - n developers have changed it. So they would have communicated at one point. \n",
    "\n",
    "    list_unique_users = unique_users\n",
    "    AC = [[0]*len(list_unique_users) for x in range(0,len(list_unique_users))]\n",
    "\n",
    "    for key in file_to_users.keys():\n",
    "        users = file_to_users[key]\n",
    "        for i in range(0, len(users)):\n",
    "            for j in range(i+1,len(users)):\n",
    "                AC[unique_users_dict[users[i]]][unique_users_dict[users[j]]] = 1\n",
    "                AC[unique_users_dict[users[j]]][unique_users_dict[users[i]]] = 1\n",
    "\n",
    "\n",
    "    ### Calculation of Coordination needs matrix: TA * TD * TAT\n",
    "\n",
    "    CR = []\n",
    "    TA = [[0]*len(file_to_users.keys()) for x in range(0,len(list_unique_users))]\n",
    "    TD = [[0]*len(file_to_users.keys()) for x in range(0,len(file_to_users.keys()))]   \n",
    "    ### TD - m * m; m = number of files TD[i][j] = ith file and jth file are dependent on each other.\n",
    "    ### if in commit they are changed togteher they are dependent. So we have assumption of undirected graph.\n",
    "\n",
    "    for key in file_to_users.keys():\n",
    "        list_of_users = file_to_users[key]\n",
    "        for x in list_of_users:\n",
    "            TA[unique_users_dict[x]][file_to_id[key]] = 1 \n",
    "\n",
    "    for commit in tmp_commits:\n",
    "        modified_files_in_commit = commit.modified_files\n",
    "        for i in range(0, len(modified_files_in_commit)):\n",
    "            for j in range(i, len(modified_files_in_commit)):\n",
    "                TD[file_to_id[modified_files_in_commit[i].filename]][file_to_id[modified_files_in_commit[j].filename]] = 1\n",
    "                TD[file_to_id[modified_files_in_commit[j].filename]][file_to_id[modified_files_in_commit[i].filename]] = 1\n",
    "\n",
    "\n",
    "    TA = pd.DataFrame(TA)\n",
    "    TD = pd.DataFrame(TD)\n",
    "    AC = pd.DataFrame(AC)\n",
    "    \n",
    "    CR = TA @ TD @ TA.T  \n",
    "    \n",
    "    CR_normalised = CR / CR.max(axis=0)\n",
    "    diff =  (CR_normalised - AC)\n",
    "    \n",
    "    CR_count=0\n",
    "    for i in range(0, len(CR_normalised)):\n",
    "        for j in range(len(CR_normalised[0])):\n",
    "            if CR_normalised[i][j] > 0:\n",
    "                CR_count+=1\n",
    "#     print(\"step:\", step)\n",
    "    print('CR_count:', CR_count)\n",
    "    \n",
    "    diff_count=0\n",
    "    for i in range(0, len(diff)):\n",
    "        for j in range(len(diff[0])):\n",
    "            if diff[i][j] > 0:\n",
    "                diff_count+=1\n",
    "    print('diff_count:', diff_count)\n",
    "    if CR_count!=0:\n",
    "        congruence = diff_count / CR_count\n",
    "        print('congruence:',congruence)\n",
    "        congruences.append(congruence)\n",
    "    else:\n",
    "        congruences.append(0)"
   ]
  },
  {
   "cell_type": "code",
   "execution_count": null,
   "metadata": {},
   "outputs": [],
   "source": [
    "plt.plot(total_commits[1:], congruences)\n",
    "plt.title(\"Changes in STC as the no. of commits increases\", fontsize = 13)\n",
    "plt.xlabel(\"No/ of commits\", fontsize=13)\n",
    "plt.ylabel(\"Congruence\", fontsize = 13)\n",
    "plt.ylim(0,1)\n",
    "plt.savefig('images/'+repo+'.png')\n",
    "plt.show()"
   ]
  },
  {
   "cell_type": "code",
   "execution_count": null,
   "metadata": {},
   "outputs": [],
   "source": [
    "import matplotlib.pyplot as plt\n",
    "x_axis1 = [0]\n",
    "for i in range(1, len(no_of_commits)):\n",
    "    x_axis1.append(x_axis1[i-1] + 1)\n",
    "\n",
    "\n",
    "plt.figure(figsize =(10,6))\n",
    "plt.bar(x_axis1, no_of_commits)\n",
    "plt.xlabel(\"No. of months\", fontsize =18)\n",
    "plt.ylabel(\"No.of commits\", fontsize =18)\n",
    "plt.title(\"No.of commits per month\" , fontsize =20)\n",
    "plt.savefig('images/'+repo+'1.png')\n",
    "plt.show()\n",
    "\n",
    "print(x_axis1)\n",
    "print(no_of_commits)"
   ]
  },
  {
   "cell_type": "code",
   "execution_count": null,
   "metadata": {},
   "outputs": [],
   "source": [
    "plt.figure(figsize =(10,6))\n",
    "plt.bar(x_axis1, total_commits)\n",
    "plt.xlabel(\"No. of months\", fontsize =18)\n",
    "plt.ylabel(\"No.of commits\", fontsize =18)\n",
    "plt.title(\"No.of commits as months passed by\", fontsize = 20)\n",
    "plt.savefig('images/'+repo+'2.png')\n",
    "plt.show()"
   ]
  },
  {
   "cell_type": "code",
   "execution_count": null,
   "metadata": {},
   "outputs": [],
   "source": [
    "noofmonths = x_axis1[1:]\n",
    "noofcommits = no_of_commits[1:]\n",
    "print(len(noofcommits))\n",
    "name = 'csv files/'+repo + '.csv'\n",
    "dict = {'no_of_months': noofmonths, 'no_of_commits': noofcommits, 'congruences': congruences}  \n",
    "       \n",
    "df = pd.DataFrame(dict) \n",
    "    \n",
    "# saving the dataframe \n",
    "df.to_csv(name) "
   ]
  },
  {
   "cell_type": "code",
   "execution_count": null,
   "metadata": {},
   "outputs": [],
   "source": []
  },
  {
   "cell_type": "code",
   "execution_count": null,
   "metadata": {},
   "outputs": [],
   "source": []
  },
  {
   "cell_type": "code",
   "execution_count": 2,
   "metadata": {},
   "outputs": [],
   "source": [
    "import numpy as np\n",
    "import pandas as pd\n",
    "import matplotlib.pyplot as plt\n",
    "import os"
   ]
  },
  {
   "cell_type": "code",
   "execution_count": 56,
   "metadata": {},
   "outputs": [
    {
     "name": "stdout",
     "output_type": "stream",
     "text": [
      "Mean Congruence of current projects is: 0.5799730047514996\n"
     ]
    }
   ],
   "source": [
    "dirname = 'csv files\\Current'\n",
    "filenames= []\n",
    "cgr = []\n",
    "curr_cgr_mean = []\n",
    "for filename in os.listdir(dirname):\n",
    "    f = os.path.join(dirname, filename)\n",
    "    filenames.append(filename)\n",
    "    df = pd.read_csv(f)\n",
    "    df = df.fillna(value=0)\n",
    "    curr_cgr_mean.append(df['congruences'].mean())\n",
    "    cgr = cgr + list(df['congruences'])\n",
    "\n",
    "cgr = np.array(cgr)\n",
    "print('Mean Congruence of current projects is:', cgr.mean())"
   ]
  },
  {
   "cell_type": "code",
   "execution_count": 57,
   "metadata": {},
   "outputs": [
    {
     "name": "stdout",
     "output_type": "stream",
     "text": [
      "Mean of each current project is: [0.8069077013521457, 0.6362433007390991, 0.7239096886741814, 0.8419753086419752, 0.6630209422294647, 0.7722222222222221, 0.5537246367981278, 0.9023809523809524, 0.5363058286559722, 0.7056566589846642, 0.5757621782619383, 0.773322632421937, 0.47680473372781057, 0.6325728918390309, 0.5415298695851016, 0.5913514496707774, 0.564903903658144, 0.4777839491899791, 0.47022005772005787, 0.6932093934965416, 0.43183875893081536, 0.402252388936881, 0.7222609368950833, 0.64995467174404, 0.7528818359416213, 0.5993833387621044, 0.6793870940438828, 0.5825173460188673, 0.6171345256051138, 0.6088653942877776, 0.4365426986645474, 0.2134172600212935, 0.419182846530906, 0.6296447400807852]\n"
     ]
    }
   ],
   "source": [
    "print('Mean of each current project is:', curr_cgr_mean)"
   ]
  },
  {
   "cell_type": "code",
   "execution_count": 74,
   "metadata": {},
   "outputs": [
    {
     "name": "stdout",
     "output_type": "stream",
     "text": [
      "0.46264986581268014\n"
     ]
    }
   ],
   "source": [
    "c_cgr1=[]\n",
    "for x in cgr:\n",
    "    if x!=1.0:\n",
    "        c_cgr1.append(x)\n",
    "print(np.array(c_cgr1).mean())"
   ]
  },
  {
   "cell_type": "code",
   "execution_count": 58,
   "metadata": {},
   "outputs": [
    {
     "name": "stdout",
     "output_type": "stream",
     "text": [
      "Mean Congruence of Retired projects is: 0.6141322163337886\n"
     ]
    }
   ],
   "source": [
    "dirname = 'csv files\\Retired'\n",
    "filenames= []\n",
    "r_cgr = []\n",
    "ret_cgr_mean = []\n",
    "for filename in os.listdir(dirname):\n",
    "    f = os.path.join(dirname, filename)\n",
    "    filenames.append(filename)\n",
    "    df = pd.read_csv(f)\n",
    "    df = df.fillna(value=0)\n",
    "    ret_cgr_mean.append(df['congruences'].mean())\n",
    "    r_cgr = r_cgr + list(df['congruences'])\n",
    "    \n",
    "r_cgr = np.array(r_cgr)\n",
    "print('Mean Congruence of Retired projects is:',r_cgr.mean())"
   ]
  },
  {
   "cell_type": "code",
   "execution_count": 63,
   "metadata": {},
   "outputs": [
    {
     "name": "stdout",
     "output_type": "stream",
     "text": [
      "Mean of each retired project is: [0.542218137254902, 0.523142074624363, 0.4196122633718125, 0.7775946275946276, 0.6756605975723623, 0.7249461961240129, 0.6316830065359476, 0.6065879458358162, 0.7666666666666667, 0.6002997690304192, 0.75, 0.6038088887997647, 0.5744062699100092, 0.6764285714285714, 0.5555555555555555, 0.8333333333333334, 0.6364536394267852, 0.6990810359231412, 0.9583333333333334, 0.7055555555555554, 0.3120833333333333, 0.6475, 0.48609256355281266, 0.6771118532017547, 0.683076923076923, 0.6172848092462594, 0.5402798445767195, 0.6845679012345678, 0.608015873015873, 0.7722222222222223, 0.5220875490545286, 0.6656701211246666, 0.5092341394129264, 0.39761904761904765, 0.7333333333333334, 0.8046511627906976, 0.31044454618052897, 0.9, 0.7260464546178834, 0.71186278998779]\n"
     ]
    }
   ],
   "source": [
    "print('Mean of each retired project is:', ret_cgr_mean)"
   ]
  },
  {
   "cell_type": "code",
   "execution_count": 71,
   "metadata": {},
   "outputs": [
    {
     "name": "stdout",
     "output_type": "stream",
     "text": [
      "0.434678421746664\n"
     ]
    }
   ],
   "source": [
    "r_cgr1=[]\n",
    "for x in r_cgr:\n",
    "    if x!=1.0:\n",
    "        r_cgr1.append(x)\n",
    "print(np.array(r_cgr1).mean())"
   ]
  },
  {
   "cell_type": "code",
   "execution_count": 60,
   "metadata": {},
   "outputs": [
    {
     "name": "stdout",
     "output_type": "stream",
     "text": [
      "Mean Congruence of Graduated projects is: 0.5767346619094786\n"
     ]
    }
   ],
   "source": [
    "dirname = 'csv files\\Graduated'\n",
    "filenames= []\n",
    "g_cgr = []\n",
    "gra_cgr_mean = []\n",
    "for filename in os.listdir(dirname):\n",
    "    f = os.path.join(dirname, filename)\n",
    "    filenames.append(filename)\n",
    "    df = pd.read_csv(f)\n",
    "    df = df.fillna(value=0)\n",
    "    gra_cgr_mean.append(df['congruences'].mean())\n",
    "    g_cgr += list(df['congruences'])\n",
    "\n",
    "g_cgr = np.array(g_cgr)\n",
    "print('Mean Congruence of Graduated projects is:', g_cgr.mean())"
   ]
  },
  {
   "cell_type": "code",
   "execution_count": 61,
   "metadata": {},
   "outputs": [
    {
     "name": "stdout",
     "output_type": "stream",
     "text": [
      "Mean of each Graduated project is: [0.740460628695923, 0.47939361209290654, 0.6591335978835979, 0.5941258032749649, 0.4799384231464582, 0.5564799556712475, 0.5620557856848424, 0.5406483612833107, 0.7067422881102126, 0.6236326885226894, 0.6304983927894147, 0.7623361823361824, 0.6493802499976359, 0.6808201058201059, 0.4807995229669458, 0.7107187984840575, 0.5834583999041905, 0.5986601004087101, 0.5411235539817514, 0.782642089093702, 0.5709874527049014, 0.8882825040128411, 0.6083661661061516, 0.6525786628070901, 0.43234120343408866, 0.5592157524046963, 0.5704838249116779, 0.5764797592704136, 0.3925432753311428, 0.5155332970027143, 0.8292738523246999, 0.5832304333633127, 0.4760330171406641, 0.5333919055844796, 0.6656701211246666, 0.5092341394129264, 0.49381796017267104, 0.5392572769931351, 0.5087631106069289, 0.56717823730301, 0.5592135421755389, 0.6136312554526662]\n"
     ]
    }
   ],
   "source": [
    "print('Mean of each Graduated project is:', gra_cgr_mean)"
   ]
  },
  {
   "cell_type": "code",
   "execution_count": 76,
   "metadata": {},
   "outputs": [
    {
     "name": "stdout",
     "output_type": "stream",
     "text": [
      "0.4912688435671681\n"
     ]
    }
   ],
   "source": [
    "g_cgr1=[]\n",
    "for x in g_cgr:\n",
    "    if x!=1.0:\n",
    "        g_cgr1.append(x)\n",
    "print(np.array(g_cgr1).mean())"
   ]
  }
 ],
 "metadata": {
  "kernelspec": {
   "display_name": "Python 3",
   "language": "python",
   "name": "python3"
  },
  "language_info": {
   "codemirror_mode": {
    "name": "ipython",
    "version": 3
   },
   "file_extension": ".py",
   "mimetype": "text/x-python",
   "name": "python",
   "nbconvert_exporter": "python",
   "pygments_lexer": "ipython3",
   "version": "3.7.3"
  }
 },
 "nbformat": 4,
 "nbformat_minor": 2
}
