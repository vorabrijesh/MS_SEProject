{
 "cells": [
  {
   "cell_type": "markdown",
   "id": "5a7f64f0",
   "metadata": {},
   "source": [
    "## Linear Regressions for SE Project\n",
    "\n",
    "Loading all packages"
   ]
  },
  {
   "cell_type": "code",
   "execution_count": null,
   "id": "2641542c",
   "metadata": {},
   "outputs": [
    {
     "name": "stderr",
     "output_type": "stream",
     "text": [
      "also installing the dependency 'lme4'\n",
      "\n"
     ]
    },
    {
     "name": "stdout",
     "output_type": "stream",
     "text": [
      "\n",
      "  There are binary versions available but the source versions are later:\n",
      "     binary   source needs_compilation\n",
      "lme4 1.1-26 1.1-27.1              TRUE\n",
      "car  3.0-10   3.0-12             FALSE\n",
      "\n",
      "  Binaries will be installed\n",
      "package 'lme4' successfully unpacked and MD5 sums checked\n",
      "\n",
      "The downloaded binary packages are in\n",
      "\tC:\\Users\\Ashwitha Kassetty\\AppData\\Local\\Temp\\RtmpKEUbrh\\downloaded_packages\n"
     ]
    },
    {
     "name": "stderr",
     "output_type": "stream",
     "text": [
      "installing the source package 'car'\n",
      "\n"
     ]
    }
   ],
   "source": [
    "install.packages(\"car\")"
   ]
  },
  {
   "cell_type": "code",
   "execution_count": null,
   "id": "eaa28740",
   "metadata": {},
   "outputs": [],
   "source": [
    "install.packages(\"statmod\")"
   ]
  },
  {
   "cell_type": "code",
   "execution_count": null,
   "id": "3f130db8",
   "metadata": {},
   "outputs": [],
   "source": [
    "library(lme4)"
   ]
  },
  {
   "cell_type": "code",
   "execution_count": null,
   "id": "b28cd0f8",
   "metadata": {},
   "outputs": [],
   "source": [
    "#d = read.csv(\"Desktop/lucene.csv\",header=T,sep=\",\")"
   ]
  },
  {
   "cell_type": "code",
   "execution_count": null,
   "id": "c0bbf8f3",
   "metadata": {},
   "outputs": [],
   "source": [
    "#m1 = lm(congruences ~ no_of_months, data=d)\n",
    "#summary(m1)\n",
    "#vif(m1)\n",
    "#plot(m1)\n",
    "#anova(m1)"
   ]
  },
  {
   "cell_type": "code",
   "execution_count": null,
   "id": "8d4b1cc2",
   "metadata": {},
   "outputs": [],
   "source": [
    "library(plyr)\n",
    "library(readr)"
   ]
  },
  {
   "cell_type": "markdown",
   "id": "3b3a2a0b",
   "metadata": {},
   "source": [
    "### Current Directory"
   ]
  },
  {
   "cell_type": "code",
   "execution_count": null,
   "id": "a35eea36",
   "metadata": {},
   "outputs": [],
   "source": [
    "currdir = \"C:/Users/Ashwitha Kassetty/Documents/GitHub/MS_SEProject/csv files/Current\"\n",
    "currfiles = list.files(path=currdir, pattern=\"*.csv\", full.names=TRUE)\n",
    "#myfiles"
   ]
  },
  {
   "cell_type": "code",
   "execution_count": null,
   "id": "7d3c3db8",
   "metadata": {},
   "outputs": [],
   "source": [
    "curr_csv = ldply(currfiles, read_csv)\n",
    "#dat_csv"
   ]
  },
  {
   "cell_type": "markdown",
   "id": "11f686f1",
   "metadata": {},
   "source": [
    "Model 1: Congruences ~ No. of Months (Current)"
   ]
  },
  {
   "cell_type": "code",
   "execution_count": null,
   "id": "61a0799c",
   "metadata": {},
   "outputs": [],
   "source": [
    "model1 = lm(congruences ~ no_of_months, data=curr_csv)\n",
    "summary(model1)\n",
    "#cat(\"Model 1: Congruences ~ No. of Months (Current)\", out1, \"Current_Model1.txt\")\n",
    "#vif(m1)\n",
    "png(\"C:/Users/Ashwitha Kassetty/Documents/GitHub/MS_SEProject/results/Current_Model1.png\", width = 1000, height = 1000)\n",
    "par(mfrow=c(2,2))\n",
    "plot(model1)\n",
    "dev.off()\n",
    "anova(model1)"
   ]
  },
  {
   "cell_type": "markdown",
   "id": "978a17d4",
   "metadata": {},
   "source": [
    "Model 2: Congruences ~ No. of Commits (Current)"
   ]
  },
  {
   "cell_type": "code",
   "execution_count": null,
   "id": "e6f6cb98",
   "metadata": {},
   "outputs": [],
   "source": [
    "model2 = lm(congruences ~ no_of_commits, data=curr_csv)\n",
    "summary(model2)\n",
    "#vif(m1)\n",
    "png(\"C:/Users/Ashwitha Kassetty/Documents/GitHub/MS_SEProject/results/Current_Model2.png\", width = 1000, height = 1000)\n",
    "par(mfrow=c(2,2))\n",
    "plot(model2)\n",
    "dev.off()\n",
    "anova(model2)"
   ]
  },
  {
   "cell_type": "markdown",
   "id": "0d29736d",
   "metadata": {},
   "source": [
    "### Graduated Directory"
   ]
  },
  {
   "cell_type": "code",
   "execution_count": null,
   "id": "6bda193d",
   "metadata": {},
   "outputs": [],
   "source": [
    "graddir = \"C:/Users/Ashwitha Kassetty/Documents/GitHub/MS_SEProject/csv files/Graduated\"\n",
    "gradfiles = list.files(path=graddir, pattern=\"*.csv\", full.names=TRUE)\n",
    "#myfiles"
   ]
  },
  {
   "cell_type": "code",
   "execution_count": null,
   "id": "f5a5ca8a",
   "metadata": {},
   "outputs": [],
   "source": [
    "grad_csv = ldply(gradfiles, read_csv)\n",
    "#dat_csv"
   ]
  },
  {
   "cell_type": "markdown",
   "id": "01523295",
   "metadata": {},
   "source": [
    "Model 3: Congruences ~ No. of Months (Graduated)"
   ]
  },
  {
   "cell_type": "code",
   "execution_count": null,
   "id": "710297c7",
   "metadata": {},
   "outputs": [],
   "source": [
    "model3 = lm(congruences ~ no_of_months, data=grad_csv)\n",
    "summary(model1)\n",
    "#vif(m1)\n",
    "png(\"C:/Users/Ashwitha Kassetty/Documents/GitHub/MS_SEProject/results/Graduated_Model3.png\", width = 1000, height = 1000)\n",
    "par(mfrow=c(2,2))\n",
    "plot(model3)\n",
    "dev.off()\n",
    "anova(model3)"
   ]
  },
  {
   "cell_type": "markdown",
   "id": "fbe561eb",
   "metadata": {},
   "source": [
    "Model 4: Congruences ~ No. of Commits (Graduated)"
   ]
  },
  {
   "cell_type": "code",
   "execution_count": null,
   "id": "683206ac",
   "metadata": {},
   "outputs": [],
   "source": [
    "model4 = lm(congruences ~ no_of_commits, data=grad_csv)\n",
    "summary(model4)\n",
    "#vif(m1)\n",
    "png(\"C:/Users/Ashwitha Kassetty/Documents/GitHub/MS_SEProject/results/Graduated_Model4.png\", width = 1000, height = 1000)\n",
    "par(mfrow=c(2,2))\n",
    "plot(model4)\n",
    "dev.off()\n",
    "anova(model4)"
   ]
  },
  {
   "cell_type": "markdown",
   "id": "5bde0ec6",
   "metadata": {},
   "source": [
    "### Retired Directory"
   ]
  },
  {
   "cell_type": "code",
   "execution_count": null,
   "id": "4164f6b0",
   "metadata": {},
   "outputs": [],
   "source": [
    "retdir = \"C:/Users/Ashwitha Kassetty/Documents/GitHub/MS_SEProject/csv files/Retired\"\n",
    "retfiles = list.files(path=retdir, pattern=\"*.csv\", full.names=TRUE)\n",
    "#myfiles"
   ]
  },
  {
   "cell_type": "code",
   "execution_count": null,
   "id": "edce0f41",
   "metadata": {},
   "outputs": [],
   "source": [
    "ret_csv = ldply(retfiles, read_csv)\n",
    "#dat_csv"
   ]
  },
  {
   "cell_type": "markdown",
   "id": "356c41a0",
   "metadata": {},
   "source": [
    "Model 5: Congruences ~ No. of Months (Retired)"
   ]
  },
  {
   "cell_type": "code",
   "execution_count": null,
   "id": "71ff0d6a",
   "metadata": {},
   "outputs": [],
   "source": [
    "model5 = lm(congruences ~ no_of_months, data=ret_csv)\n",
    "summary(model5)\n",
    "#vif(m1)\n",
    "png(\"C:/Users/Ashwitha Kassetty/Documents/GitHub/MS_SEProject/results/Retired_Model5.png\", width = 1000, height = 1000)\n",
    "par(mfrow=c(2,2))\n",
    "plot(model5)\n",
    "dev.off()\n",
    "anova(model5)"
   ]
  },
  {
   "cell_type": "markdown",
   "id": "5bd7d333",
   "metadata": {},
   "source": [
    "Model 6: Congruences ~ No. of Commits (Retired)"
   ]
  },
  {
   "cell_type": "code",
   "execution_count": null,
   "id": "f7a19839",
   "metadata": {},
   "outputs": [],
   "source": [
    "model6 = lm(congruences ~ no_of_commits, data=ret_csv)\n",
    "summary(model6)\n",
    "#vif(m1)\n",
    "png(\"C:/Users/Ashwitha Kassetty/Documents/GitHub/MS_SEProject/results/Retired_Model6.png\", width = 1000, height = 1000)\n",
    "par(mfrow=c(2,2))\n",
    "plot(model6)\n",
    "dev.off()\n",
    "anova(model6)"
   ]
  },
  {
   "cell_type": "code",
   "execution_count": null,
   "id": "bbadb8ae",
   "metadata": {},
   "outputs": [],
   "source": []
  }
 ],
 "metadata": {
  "kernelspec": {
   "display_name": "R",
   "language": "R",
   "name": "ir"
  },
  "language_info": {
   "codemirror_mode": "r",
   "file_extension": ".r",
   "mimetype": "text/x-r-source",
   "name": "R",
   "pygments_lexer": "r",
   "version": "3.6.1"
  }
 },
 "nbformat": 4,
 "nbformat_minor": 5
}
